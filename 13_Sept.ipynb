{
  "nbformat": 4,
  "nbformat_minor": 0,
  "metadata": {
    "colab": {
      "provenance": [],
      "authorship_tag": "ABX9TyOKxHwavXRxbrjC8Sbtw8zv",
      "include_colab_link": true
    },
    "kernelspec": {
      "name": "python3",
      "display_name": "Python 3"
    },
    "language_info": {
      "name": "python"
    }
  },
  "cells": [
    {
      "cell_type": "markdown",
      "metadata": {
        "id": "view-in-github",
        "colab_type": "text"
      },
      "source": [
        "<a href=\"https://colab.research.google.com/github/UzairYusuf/Python-Projects/blob/main/13_Sept.ipynb\" target=\"_parent\"><img src=\"https://colab.research.google.com/assets/colab-badge.svg\" alt=\"Open In Colab\"/></a>"
      ]
    },
    {
      "cell_type": "markdown",
      "source": [
        "Remove List Items"
      ],
      "metadata": {
        "id": "b1rTsa9bdfCs"
      }
    },
    {
      "cell_type": "code",
      "execution_count": null,
      "metadata": {
        "id": "ZuQA2NTzVlIZ",
        "colab": {
          "base_uri": "https://localhost:8080/"
        },
        "outputId": "90e29e4d-0988-4d25-cd94-9bc7ee2fb51f"
      },
      "outputs": [
        {
          "output_type": "stream",
          "name": "stdout",
          "text": [
            "['winter', 'spring', 'autumn', 'sublist']\n"
          ]
        }
      ],
      "source": [
        "# the remove() method removes the specified item\n",
        "list2 = [\"summer\", \"winter\", \"spring\", \"autumn\", \"sublist\"]\n",
        "list2.remove(\"summer\")\n",
        "print(list2)"
      ]
    },
    {
      "cell_type": "code",
      "source": [
        "#the pop() method removes the specified index.\n",
        "list2.pop(0)\n",
        "print(list2)"
      ],
      "metadata": {
        "colab": {
          "base_uri": "https://localhost:8080/"
        },
        "id": "p-BeCRE-eMFz",
        "outputId": "9070deb6-ea0b-4197-acaf-c5456608dfb8"
      },
      "execution_count": null,
      "outputs": [
        {
          "output_type": "stream",
          "name": "stdout",
          "text": [
            "['spring', 'autumn', 'sublist']\n"
          ]
        }
      ]
    },
    {
      "cell_type": "code",
      "source": [
        "del list2[1]\n",
        "print(list2)"
      ],
      "metadata": {
        "colab": {
          "base_uri": "https://localhost:8080/"
        },
        "id": "py-IDK_1e69D",
        "outputId": "10c74463-9191-4758-8ab6-b3c648747762"
      },
      "execution_count": null,
      "outputs": [
        {
          "output_type": "stream",
          "name": "stdout",
          "text": [
            "['spring']\n"
          ]
        }
      ]
    },
    {
      "cell_type": "code",
      "source": [
        "list2 = [\"summer\", \"winter\", \"spring\", \"autumn\", \"sublist\"]\n",
        "list2.clear()\n",
        "print(list2)"
      ],
      "metadata": {
        "colab": {
          "base_uri": "https://localhost:8080/"
        },
        "id": "4E_UdSgTgYVR",
        "outputId": "cdbb1e9d-560d-4b58-f88e-1cb85aaac1ec"
      },
      "execution_count": null,
      "outputs": [
        {
          "output_type": "stream",
          "name": "stdout",
          "text": [
            "[]\n"
          ]
        }
      ]
    },
    {
      "cell_type": "code",
      "source": [
        "list2 = [\"summer\", \"winter\", \"spring\", \"autumn\", \"sublist\"]"
      ],
      "metadata": {
        "id": "dM2BbrL4g6uc"
      },
      "execution_count": null,
      "outputs": []
    },
    {
      "cell_type": "code",
      "source": [
        "list2.clear()\n",
        "print(list2)"
      ],
      "metadata": {
        "colab": {
          "base_uri": "https://localhost:8080/"
        },
        "id": "FiLPfdXihU8v",
        "outputId": "26c07e23-88fd-4a27-ca75-019acf4f0342"
      },
      "execution_count": null,
      "outputs": [
        {
          "output_type": "stream",
          "name": "stdout",
          "text": [
            "[]\n"
          ]
        }
      ]
    },
    {
      "cell_type": "code",
      "source": [
        "list2 = [\"summer\", \"winter\", \"spring\", \"autumn\", \"sublist\"]"
      ],
      "metadata": {
        "id": "Q3fVKNTRhs7H"
      },
      "execution_count": null,
      "outputs": []
    }
  ]
}