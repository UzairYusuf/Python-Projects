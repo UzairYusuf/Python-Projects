{
  "nbformat": 4,
  "nbformat_minor": 0,
  "metadata": {
    "colab": {
      "provenance": [],
      "gpuType": "T4",
      "authorship_tag": "ABX9TyPe1pMuC45bHVGDEjzYS1tG",
      "include_colab_link": true
    },
    "kernelspec": {
      "name": "python3",
      "display_name": "Python 3"
    },
    "language_info": {
      "name": "python"
    },
    "accelerator": "GPU"
  },
  "cells": [
    {
      "cell_type": "markdown",
      "metadata": {
        "id": "view-in-github",
        "colab_type": "text"
      },
      "source": [
        "<a href=\"https://colab.research.google.com/github/UzairYusuf/Python-Projects/blob/main/Conditions_26_27_30_Sept_1_2_3_Oct_24.ipynb\" target=\"_parent\"><img src=\"https://colab.research.google.com/assets/colab-badge.svg\" alt=\"Open In Colab\"/></a>"
      ]
    },
    {
      "cell_type": "markdown",
      "source": [
        "Conditions\n"
      ],
      "metadata": {
        "id": "UJ1rvnPQbx9O"
      }
    },
    {
      "cell_type": "code",
      "execution_count": null,
      "metadata": {
        "id": "Vm6p4KWkbZvO"
      },
      "outputs": [],
      "source": [
        "a = 3\n",
        "b = 5\n",
        "if a > b:\n",
        "  print(\"a is greater than b\")\n",
        "else:\n",
        "  print(\"your statement is false\")"
      ]
    },
    {
      "cell_type": "code",
      "source": [
        "a = 6\n",
        "b = 5\n",
        "if a > b:\n",
        "  print(\"a is greater than b\")\n",
        "else:\n",
        "  print(\"your statement is false\")"
      ],
      "metadata": {
        "colab": {
          "base_uri": "https://localhost:8080/"
        },
        "id": "7F-R_9nNcoEn",
        "outputId": "7f6440ca-917b-4528-c566-40f876365723"
      },
      "execution_count": null,
      "outputs": [
        {
          "output_type": "stream",
          "name": "stdout",
          "text": [
            "a is greater than b\n"
          ]
        }
      ]
    },
    {
      "cell_type": "code",
      "source": [
        "a = 3\n",
        "b = 5\n",
        "if a > b:\n",
        "  print(\"a is greater than b\")\n",
        "else:\n",
        "  print(\"a is not greater than b\")"
      ],
      "metadata": {
        "colab": {
          "base_uri": "https://localhost:8080/"
        },
        "id": "1yUqnJsBcyuf",
        "outputId": "2655cab7-f252-40dd-c21b-b97147500a57"
      },
      "execution_count": null,
      "outputs": [
        {
          "output_type": "stream",
          "name": "stdout",
          "text": [
            "a is not greater than b\n"
          ]
        }
      ]
    },
    {
      "cell_type": "code",
      "source": [
        "a,b = 5, 7\n",
        "if a == 3:\n",
        "  print(\"a is greater than b\")\n",
        "elif a<b:\n",
        "  print(\"a is less than b\")\n",
        "else:\n",
        "  print(\"a is equal to b\")"
      ],
      "metadata": {
        "colab": {
          "base_uri": "https://localhost:8080/"
        },
        "id": "6daCSQPOdBmi",
        "outputId": "d30d5caa-55bf-4954-96f0-08b5bb78e8a5"
      },
      "execution_count": null,
      "outputs": [
        {
          "output_type": "stream",
          "name": "stdout",
          "text": [
            "a is less than b\n"
          ]
        }
      ]
    },
    {
      "cell_type": "code",
      "source": [
        "#Grading System using conditions\n",
        "marks = float(input(\"Enter your marks: \"))\n",
        "if marks >= 95:\n",
        "  print(\"Your Grade is A\")\n",
        "elif marks >= 85:\n",
        "  print(\"Your Grade is B\")\n",
        "elif marks >= 75:\n",
        "  print(\"our Grade C\")\n",
        "elif marks >= 50:\n",
        "  print(\"our Grade D\")\n",
        "else:\n",
        "  print(\"our Grade F\")"
      ],
      "metadata": {
        "id": "ipMjpjJgd7Aj",
        "colab": {
          "base_uri": "https://localhost:8080/"
        },
        "outputId": "8ffd1f44-e65d-492c-cfbc-314562814535"
      },
      "execution_count": null,
      "outputs": [
        {
          "output_type": "stream",
          "name": "stdout",
          "text": [
            "Enter your marks: 67\n",
            "our Grade D\n"
          ]
        }
      ]
    },
    {
      "cell_type": "code",
      "source": [
        "marks = int(input(\"Enter your mark: \"))\n",
        "if marks >= 95:\n",
        "  print(\"A\")\n",
        "elif marks >= 85:\n",
        "  print(\"B\")\n",
        "elif marks >=75:\n",
        "  print(\"C\")\n",
        "else:\n",
        "  print(\"D\")"
      ],
      "metadata": {
        "id": "AUr-Qs-jfJNb",
        "colab": {
          "base_uri": "https://localhost:8080/"
        },
        "outputId": "87b75a5c-31e0-4fbb-be35-98b945068386"
      },
      "execution_count": null,
      "outputs": [
        {
          "output_type": "stream",
          "name": "stdout",
          "text": [
            "Enter your mark: 33\n",
            "D\n"
          ]
        }
      ]
    },
    {
      "cell_type": "code",
      "source": [
        "#program for a basic calculator\n",
        "a = int(input(\"Enter first digit :\"))\n",
        "b = int(input(\"Enter second digit :\"))\n",
        "c = input(\"Choose an operator of the following: \\n+ \\n- \\n* \\n/ \\n\")\n",
        "\n",
        "if c== \"+\":\n",
        "  z = (a+b)\n",
        "elif c==\"-\":\n",
        "  z = (a-b)\n",
        "elif c==\"*\":\n",
        "  z = (a*b)\n",
        "elif c==\"/\":\n",
        "  z = (a/b)\n",
        "print(\"Your solution : \", z)"
      ],
      "metadata": {
        "colab": {
          "base_uri": "https://localhost:8080/"
        },
        "id": "g0TpMznjd-Pm",
        "outputId": "80319f64-d913-4fc0-dfac-49747a794d6a"
      },
      "execution_count": null,
      "outputs": [
        {
          "output_type": "stream",
          "name": "stdout",
          "text": [
            "Enter first digit :3\n",
            "Enter second digit :4\n",
            "Choose an operator of the following: \n",
            "+ \n",
            "- \n",
            "* \n",
            "/ \n",
            "+\n",
            "Your solution :  7\n"
          ]
        }
      ]
    },
    {
      "cell_type": "code",
      "source": [
        "#program for a basic calculator\n",
        "a = float(input(\"Enter first digit :\"))\n",
        "b = float(input(\"Enter second digit :\"))\n",
        "c = input(\"Choose an operator of the following: \\n+ \\n- \\n* \\n/ \\n\")\n",
        "\n",
        "if c== \"+\":\n",
        "  z = (a+b)\n",
        "elif c==\"-\":\n",
        "  z = (a-b)\n",
        "elif c==\"*\":\n",
        "  z = (a*b)\n",
        "elif c==\"/\":\n",
        "  z = (a/b)\n",
        "print(\"Your solution : \", z)"
      ],
      "metadata": {
        "id": "SbX4L3QwgEBm",
        "colab": {
          "base_uri": "https://localhost:8080/"
        },
        "outputId": "c51f672d-dfbe-4739-9c13-f504f87726ee"
      },
      "execution_count": null,
      "outputs": [
        {
          "output_type": "stream",
          "name": "stdout",
          "text": [
            "Enter first digit :13\n",
            "Enter second digit :14\n",
            "Choose an operator of the following: \n",
            "+ \n",
            "- \n",
            "* \n",
            "/ \n",
            "+\n",
            "Your solution :  27.0\n"
          ]
        }
      ]
    },
    {
      "cell_type": "markdown",
      "source": [
        "Short Hand If\n",
        "for only one statement"
      ],
      "metadata": {
        "id": "efvbe6hOgazD"
      }
    },
    {
      "cell_type": "code",
      "source": [
        "a,b = 9,7\n",
        "if a>b:print(\"a is greater than b\"), print(5)"
      ],
      "metadata": {
        "id": "rAj8JY6kjcd8"
      },
      "execution_count": null,
      "outputs": []
    },
    {
      "cell_type": "code",
      "source": [
        "# Short Hand if ....else\n",
        "a=5\n",
        "b=5\n",
        "print(\"a\") if a>b else print(\"b\")\n",
        "print(\"a\") if a<b else print(\"same\")"
      ],
      "metadata": {
        "id": "q3UR-AHahCOm",
        "colab": {
          "base_uri": "https://localhost:8080/"
        },
        "outputId": "adb904bc-7a0c-46b3-ef1c-71120afe9093"
      },
      "execution_count": null,
      "outputs": [
        {
          "output_type": "stream",
          "name": "stdout",
          "text": [
            "b\n",
            "same\n"
          ]
        }
      ]
    },
    {
      "cell_type": "markdown",
      "source": [
        "Logical Operators in Conditions\n",
        "using and, or, not"
      ],
      "metadata": {
        "id": "0250zHLBh2WZ"
      }
    },
    {
      "cell_type": "code",
      "source": [
        "#using and, or, not\n",
        "a>b and a==b"
      ],
      "metadata": {
        "id": "dWN5rp4dh8Xp"
      },
      "execution_count": null,
      "outputs": []
    },
    {
      "cell_type": "code",
      "source": [
        "a = 100\n",
        "b = 200\n",
        "c = 300\n",
        "if a>b or a>c: #both conditions are false so moves to next statement\n",
        "  print(\"a is greater than all\")\n",
        "elif b>a or b>c: #first condition\n",
        "  print(\"b is greater than all\")\n",
        "elif c>a or c>b:\n",
        "  print(\"c is greater than all\")"
      ],
      "metadata": {
        "colab": {
          "base_uri": "https://localhost:8080/"
        },
        "id": "8-U-IctL7QG-",
        "outputId": "647d6f2a-99ab-4f30-f5fd-6611b03576b0"
      },
      "execution_count": null,
      "outputs": [
        {
          "output_type": "stream",
          "name": "stdout",
          "text": [
            "a = 100\n",
            "b = 200\n",
            "c = 300\n",
            "b is greater than all\n"
          ]
        }
      ]
    },
    {
      "cell_type": "code",
      "source": [
        "a = int(input(\"a = \"))\n",
        "b = int(input(\"b = \"))\n",
        "c = int(input(\"c = \"))\n",
        "if a>b and a>c:\n",
        "  print(\"a is greater than all\")\n",
        "elif b>a and b>c:\n",
        "  print(\"b is greater than all\")\n",
        "elif c>a and c>b:\n",
        "  print(\"c is greater than all\")"
      ],
      "metadata": {
        "id": "cEXQ6elAiQdY",
        "colab": {
          "base_uri": "https://localhost:8080/"
        },
        "outputId": "ef003703-61ef-4523-b5fc-4e6a9627b507"
      },
      "execution_count": null,
      "outputs": [
        {
          "output_type": "stream",
          "name": "stdout",
          "text": [
            "a = 100\n",
            "b = 400\n",
            "c = 300\n",
            "b is greater than all\n"
          ]
        }
      ]
    },
    {
      "cell_type": "code",
      "source": [
        "''' Accept three sides of triangle and check whether it is an equilteral, scalene or isosceles\n",
        "Note:\n",
        "Equilateral - all sides equal\n",
        "Scalene - unequal sides\n",
        "Isosceles - at least two sides equal'''\n",
        "\n",
        "a = float(input(\"a = \"))\n",
        "b = float(input(\"b = \"))\n",
        "c = float(input(\"c = \"))\n",
        "if a==b==c:\n",
        "  print(\"Equilateral Triangle\")\n",
        "elif a==b or a==c or b==c:\n",
        "   print(\"Isosceles Triangle\")\n",
        "else:\n",
        "  print(\"Scalene Triangle\")"
      ],
      "metadata": {
        "id": "iSk6d1y_ylc_",
        "colab": {
          "base_uri": "https://localhost:8080/"
        },
        "outputId": "a3dc73aa-89ae-4cb6-8195-0c8010d63011"
      },
      "execution_count": null,
      "outputs": [
        {
          "output_type": "stream",
          "name": "stdout",
          "text": [
            "a = 7\n",
            "b = 7\n",
            "c = 7\n",
            "Equilateral Triangle\n"
          ]
        }
      ]
    },
    {
      "cell_type": "code",
      "source": [
        "#Write a program to check whether a number(accpeted by user) is divisible by 2 & 5 both\n",
        "a = int(input(\"Enter a number: \"))\n",
        "if a%2==0 and a%5==0:\n",
        "  print(\"Number is divisible.\")\n",
        "else:\n",
        "  print(\"Number is not divisible.\")"
      ],
      "metadata": {
        "colab": {
          "base_uri": "https://localhost:8080/"
        },
        "id": "J7c1P660-PjA",
        "outputId": "1338e5f1-ef2f-4b1f-ee8f-4a85a867c30b"
      },
      "execution_count": null,
      "outputs": [
        {
          "output_type": "stream",
          "name": "stdout",
          "text": [
            "Enter a number: 50\n",
            "Number is divisible.\n"
          ]
        }
      ]
    },
    {
      "cell_type": "code",
      "source": [
        "# Accept ages of 4 persons and return oldest\n",
        "a = int(input(\"Age1 : \"))\n",
        "b = int(input(\"Age2 : \"))\n",
        "c = int(input(\"Age3 : \"))\n",
        "d = int(input(\"Age4 : \"))\n",
        "oldest = max(a, b, c, d)\n",
        "print(\"Oldest person is \", oldest, \" years old.\")"
      ],
      "metadata": {
        "colab": {
          "base_uri": "https://localhost:8080/"
        },
        "id": "q2B0rg0W_ZpJ",
        "outputId": "041ed0bf-1c83-46d4-a649-0787a538f0fd"
      },
      "execution_count": null,
      "outputs": [
        {
          "output_type": "stream",
          "name": "stdout",
          "text": [
            "Age1 : 0\n",
            "Age2 : 8\n",
            "Age3 : 6\n",
            "Age4 : 7\n",
            "Oldest person is  8  years old.\n"
          ]
        }
      ]
    },
    {
      "cell_type": "markdown",
      "source": [
        "Nested if:\n",
        "\n",
        "if within if"
      ],
      "metadata": {
        "id": "aakqlOJIGvjx"
      }
    },
    {
      "cell_type": "code",
      "source": [
        "marks = int(input(\"Enter your marks: \"))\n",
        "if marks >= 60:\n",
        "  if marks >= 80:\n",
        "    print(\"Pass with excellent performance.\")\n",
        "  else:\n",
        "    print(\"Pass but need more efforts.\")\n",
        "else:\n",
        "  print(\"Fail\")"
      ],
      "metadata": {
        "colab": {
          "base_uri": "https://localhost:8080/"
        },
        "id": "FP2-6pyEGvGc",
        "outputId": "c0005b3b-1021-4983-cb55-2053ce2c4eab"
      },
      "execution_count": null,
      "outputs": [
        {
          "output_type": "stream",
          "name": "stdout",
          "text": [
            "Enter your marks: 65\n",
            "Pass but need more efforts.\n"
          ]
        }
      ]
    },
    {
      "cell_type": "markdown",
      "source": [
        "Pass Statement"
      ],
      "metadata": {
        "id": "pu61SkdpILbn"
      }
    },
    {
      "cell_type": "code",
      "source": [
        "a = 5\n",
        "b = 7\n",
        "if a<b:\n",
        "  pass"
      ],
      "metadata": {
        "id": "ltqMrZyPIDDw"
      },
      "execution_count": null,
      "outputs": []
    },
    {
      "cell_type": "markdown",
      "source": [
        "Loops\n",
        "Used for iterations"
      ],
      "metadata": {
        "id": "rP3q6kNlIhNi"
      }
    },
    {
      "cell_type": "code",
      "source": [
        "#While Loop as long as condition is true\n",
        "i =1\n",
        "while i < 6:\n",
        "  print(i)\n",
        "  i += 0.5"
      ],
      "metadata": {
        "colab": {
          "base_uri": "https://localhost:8080/"
        },
        "id": "rlXGYApxIfUZ",
        "outputId": "a0a67996-6b64-4234-fdad-907142bd1434"
      },
      "execution_count": null,
      "outputs": [
        {
          "output_type": "stream",
          "name": "stdout",
          "text": [
            "1\n",
            "1.5\n",
            "2.0\n",
            "2.5\n",
            "3.0\n",
            "3.5\n",
            "4.0\n",
            "4.5\n",
            "5.0\n",
            "5.5\n"
          ]
        }
      ]
    },
    {
      "cell_type": "code",
      "source": [
        "i =1\n",
        "while i <= 9:\n",
        "  print(i)\n",
        "  i *= 2\n",
        "print(\"Done\")"
      ],
      "metadata": {
        "colab": {
          "base_uri": "https://localhost:8080/"
        },
        "id": "X6aLwpbdJK_l",
        "outputId": "552183ab-8ab2-4c40-869b-d5429701a777"
      },
      "execution_count": null,
      "outputs": [
        {
          "output_type": "stream",
          "name": "stdout",
          "text": [
            "1\n",
            "2\n",
            "4\n",
            "8\n",
            "Done\n"
          ]
        }
      ]
    },
    {
      "cell_type": "code",
      "source": [
        "i = 0\n",
        "n = 5\n",
        "while i<n:\n",
        "  print(i)\n",
        "  i += 1"
      ],
      "metadata": {
        "colab": {
          "base_uri": "https://localhost:8080/"
        },
        "id": "fu7V85ipMhbE",
        "outputId": "fcf5c100-7d41-4770-a2a3-80214ede76c3"
      },
      "execution_count": null,
      "outputs": [
        {
          "output_type": "stream",
          "name": "stdout",
          "text": [
            "0\n",
            "1\n",
            "2\n",
            "3\n",
            "4\n"
          ]
        }
      ]
    },
    {
      "cell_type": "code",
      "source": [
        "i = int(input(\"Input i : \"))\n",
        "n = int(input(\"Input n : \"))\n",
        "while i<n:\n",
        "  print(i)\n",
        "  i += 1"
      ],
      "metadata": {
        "colab": {
          "base_uri": "https://localhost:8080/"
        },
        "id": "0y0JRjzgLlFK",
        "outputId": "e12169b6-85e2-4cd8-89ce-25fc484c6eeb"
      },
      "execution_count": null,
      "outputs": [
        {
          "output_type": "stream",
          "name": "stdout",
          "text": [
            "Input i : 0\n",
            "Input n : 5\n",
            "0\n",
            "1\n",
            "2\n",
            "3\n",
            "4\n"
          ]
        }
      ]
    },
    {
      "cell_type": "code",
      "source": [
        "i = 1\n",
        "while i<=5:\n",
        "  print(\"python\", i)\n",
        "  i = i+1"
      ],
      "metadata": {
        "colab": {
          "base_uri": "https://localhost:8080/"
        },
        "id": "nU3J5wDzNKq_",
        "outputId": "e48e070c-ae2e-421e-830e-580ae9d5407c"
      },
      "execution_count": null,
      "outputs": [
        {
          "output_type": "stream",
          "name": "stdout",
          "text": [
            "python 1\n",
            "python 2\n",
            "python 3\n",
            "python 4\n",
            "python 5\n"
          ]
        }
      ]
    },
    {
      "cell_type": "code",
      "source": [
        "i = 1\n",
        "while i<= 5:\n",
        "  print(\"x\" * i) # repeats i time\n",
        "  i += 1"
      ],
      "metadata": {
        "colab": {
          "base_uri": "https://localhost:8080/"
        },
        "id": "BJYO3NahNmFT",
        "outputId": "2b7f959a-b8ab-415b-d6e3-d6b0c1e3fd82"
      },
      "execution_count": null,
      "outputs": [
        {
          "output_type": "stream",
          "name": "stdout",
          "text": [
            "x\n",
            "xx\n",
            "xxx\n",
            "xxxx\n",
            "xxxxx\n"
          ]
        }
      ]
    },
    {
      "cell_type": "markdown",
      "source": [
        "**Break Statement**\n",
        "\n",
        "To stop statement"
      ],
      "metadata": {
        "id": "oPJtBwkBKIsv"
      }
    },
    {
      "cell_type": "code",
      "source": [
        "i = 0\n",
        "while i<6:\n",
        "  print(i)\n",
        "  if i == 3: # stops statement in between\n",
        "    break\n",
        "  i+=1"
      ],
      "metadata": {
        "colab": {
          "base_uri": "https://localhost:8080/"
        },
        "id": "AyrgrDhkKHPu",
        "outputId": "69d4c54c-35b9-414f-dfee-69bef71e81ac"
      },
      "execution_count": null,
      "outputs": [
        {
          "output_type": "stream",
          "name": "stdout",
          "text": [
            "0\n",
            "1\n",
            "2\n",
            "3\n"
          ]
        }
      ]
    },
    {
      "cell_type": "markdown",
      "source": [
        "**Continue Statement**\n",
        "Stop iteration and continue next"
      ],
      "metadata": {
        "id": "He9D4VdMLkLO"
      }
    },
    {
      "cell_type": "code",
      "source": [
        "i = 1\n",
        "while i<= 6:\n",
        "  if i == 3:\n",
        "    i += 1 #increment before continuing to avoid infinite loop\n",
        "    continue\n",
        "  print(i)\n",
        "  i += 1"
      ],
      "metadata": {
        "colab": {
          "base_uri": "https://localhost:8080/"
        },
        "id": "eUDnZ6S8LAK4",
        "outputId": "b747cbee-081d-442a-92de-b42e11d45dd0"
      },
      "execution_count": null,
      "outputs": [
        {
          "output_type": "stream",
          "name": "stdout",
          "text": [
            "1\n",
            "2\n",
            "4\n",
            "5\n",
            "6\n"
          ]
        }
      ]
    },
    {
      "cell_type": "code",
      "source": [
        "#Table using while loop\n",
        "a = int(input(\"Enter a number : \"))\n",
        "i = 1\n",
        "while i<=10:\n",
        "  print(a, \"*\", i, \"=\", a*i)\n",
        "  i+=1"
      ],
      "metadata": {
        "colab": {
          "base_uri": "https://localhost:8080/"
        },
        "id": "hetQaaBPNWaS",
        "outputId": "1c8c51b7-0d28-4831-e9b6-dbdd92d6c8fa"
      },
      "execution_count": null,
      "outputs": [
        {
          "output_type": "stream",
          "name": "stdout",
          "text": [
            "Enter a number : 33\n",
            "33 * 1 = 33\n",
            "33 * 2 = 66\n",
            "33 * 3 = 99\n",
            "33 * 4 = 132\n",
            "33 * 5 = 165\n",
            "33 * 6 = 198\n",
            "33 * 7 = 231\n",
            "33 * 8 = 264\n",
            "33 * 9 = 297\n",
            "33 * 10 = 330\n"
          ]
        }
      ]
    },
    {
      "cell_type": "markdown",
      "source": [
        "**Else in While Loop**"
      ],
      "metadata": {
        "id": "lZaUcsgLOUh_"
      }
    },
    {
      "cell_type": "code",
      "source": [
        "i = 0\n",
        "while i<5:\n",
        "  print(i)\n",
        "  i += 1\n",
        "else:\n",
        "  print(\"i is no longer less than 5.\")"
      ],
      "metadata": {
        "colab": {
          "base_uri": "https://localhost:8080/"
        },
        "id": "fV6Zcr9XOaY3",
        "outputId": "2ee28ed0-00a4-451c-f56a-f9f118b08908"
      },
      "execution_count": null,
      "outputs": [
        {
          "output_type": "stream",
          "name": "stdout",
          "text": [
            "0\n",
            "1\n",
            "2\n",
            "3\n",
            "4\n",
            "i is no longer less than 5.\n"
          ]
        }
      ]
    },
    {
      "cell_type": "code",
      "source": [
        "# Guessing Game using While Loop\n",
        "secret_number = 5\n",
        "guess_count = 0\n",
        "guess_limit = 3\n",
        "while guess_count < guess_limit:\n",
        "  guess = int(input(\"Your guess: \"))\n",
        "  if guess == secret_number:\n",
        "    print(\"You won\")\n",
        "    break\n",
        "  guess_count+=1\n",
        "else:\n",
        "  print(\"You exceeded guess limit.\")\n"
      ],
      "metadata": {
        "colab": {
          "base_uri": "https://localhost:8080/"
        },
        "id": "ijur7E6FQFdS",
        "outputId": "1c6fa03b-854d-42f7-df85-58dac6797c00"
      },
      "execution_count": null,
      "outputs": [
        {
          "output_type": "stream",
          "name": "stdout",
          "text": [
            "Your guess: 9\n",
            "Your guess: 5\n",
            "You won\n"
          ]
        }
      ]
    },
    {
      "cell_type": "markdown",
      "source": [
        "Range() in For Loop\n"
      ],
      "metadata": {
        "id": "TgONivROSn_3"
      }
    },
    {
      "cell_type": "code",
      "source": [
        "for i in range(5):\n",
        "  print(i)"
      ],
      "metadata": {
        "colab": {
          "base_uri": "https://localhost:8080/"
        },
        "id": "EUAKRpW-SmSt",
        "outputId": "ecfc4eba-e9d4-49d3-acf2-1bc12623716c"
      },
      "execution_count": null,
      "outputs": [
        {
          "output_type": "stream",
          "name": "stdout",
          "text": [
            "0\n",
            "1\n",
            "2\n",
            "3\n",
            "4\n"
          ]
        }
      ]
    },
    {
      "cell_type": "code",
      "source": [
        "#for loop\n",
        "my_list = [3, 5, True, \"apple\"]\n",
        "for i in my_list: # starts from 0 index, moves 1 by 1\n",
        "  print(i)"
      ],
      "metadata": {
        "colab": {
          "base_uri": "https://localhost:8080/"
        },
        "id": "1a1iJG_vbide",
        "outputId": "1ae12174-d429-441f-8655-31ee6914cd69"
      },
      "execution_count": null,
      "outputs": [
        {
          "output_type": "stream",
          "name": "stdout",
          "text": [
            "3\n",
            "5\n",
            "True\n",
            "apple\n"
          ]
        }
      ]
    },
    {
      "cell_type": "code",
      "source": [
        "my_tuple = (\"python\", \"cpp\", \"java\")\n",
        "for i in my_tuple:\n",
        "  print(i)"
      ],
      "metadata": {
        "colab": {
          "base_uri": "https://localhost:8080/"
        },
        "id": "bJkauqr_cF3B",
        "outputId": "c08e1a4e-9924-4d91-be6a-c6c058608dee"
      },
      "execution_count": null,
      "outputs": [
        {
          "output_type": "stream",
          "name": "stdout",
          "text": [
            "python\n",
            "cpp\n",
            "java\n"
          ]
        }
      ]
    },
    {
      "cell_type": "code",
      "source": [
        "target = 9\n",
        "arr = [6, 3, 8, 4, 5, 2, 1]\n",
        "for i in range (len(arr)):\n",
        "  if arr[i] == 5:\n",
        "    print(\"Value:\", arr[i], \"\\n\", \"Index:\", i)\n",
        "print(\"Nothing\")"
      ],
      "metadata": {
        "colab": {
          "base_uri": "https://localhost:8080/"
        },
        "id": "l7hfdvbKcxxU",
        "outputId": "d7dbf12f-387e-412e-e699-626b062cfd4a"
      },
      "execution_count": null,
      "outputs": [
        {
          "output_type": "stream",
          "name": "stdout",
          "text": [
            "Value: 5 \n",
            " Index: 4\n",
            "Nothing\n"
          ]
        }
      ]
    },
    {
      "cell_type": "markdown",
      "source": [
        "**Break Statement in for loop**\n",
        "With the break statement we can stop loop before it looped"
      ],
      "metadata": {
        "id": "EPHdx3oOeJn9"
      }
    },
    {
      "cell_type": "code",
      "source": [
        "my_list = [\"winter\", \"summer\", \"autumn\", \"fall\", \"rainy\"]\n",
        "for i in my_list:\n",
        "  print(i)\n",
        "  if i == \"fall\": # will break when reach \"fall\"\n",
        "    break\n",
        "    print(i)"
      ],
      "metadata": {
        "colab": {
          "base_uri": "https://localhost:8080/"
        },
        "id": "ZNpjV1MAeglt",
        "outputId": "8937a62a-ddd4-4fd9-85c9-9c0f8ecc2359"
      },
      "execution_count": null,
      "outputs": [
        {
          "output_type": "stream",
          "name": "stdout",
          "text": [
            "winter\n",
            "summer\n",
            "autumn\n",
            "fall\n"
          ]
        }
      ]
    },
    {
      "cell_type": "markdown",
      "source": [
        "Continue Statement for loop"
      ],
      "metadata": {
        "id": "rNzN0Y8SfOPw"
      }
    },
    {
      "cell_type": "code",
      "source": [
        "my_list = [\"winter\", \"summer\", \"autumn\", \"fall\", \"rainy\"]\n",
        "for i in my_list:\n",
        "  if i == \"fail\""
      ],
      "metadata": {
        "id": "eGBiD4l5fLt8"
      },
      "execution_count": null,
      "outputs": []
    },
    {
      "cell_type": "code",
      "source": [
        "my_list = [\"winter\", \"summer\", \"autumn\", \"fall\", \"rainy\"]\n",
        "for i in range(2, len(my_list)):\n",
        "  print(my_list(i))"
      ],
      "metadata": {
        "colab": {
          "base_uri": "https://localhost:8080/",
          "height": 176
        },
        "id": "IlUDb11bfsIC",
        "outputId": "3c9050b4-70e8-4f82-813c-6ad8f833ce35"
      },
      "execution_count": null,
      "outputs": [
        {
          "output_type": "error",
          "ename": "TypeError",
          "evalue": "'list' object is not callable",
          "traceback": [
            "\u001b[0;31m---------------------------------------------------------------------------\u001b[0m",
            "\u001b[0;31mTypeError\u001b[0m                                 Traceback (most recent call last)",
            "\u001b[0;32m<ipython-input-13-089ee34f14f7>\u001b[0m in \u001b[0;36m<cell line: 2>\u001b[0;34m()\u001b[0m\n\u001b[1;32m      1\u001b[0m \u001b[0mmy_list\u001b[0m \u001b[0;34m=\u001b[0m \u001b[0;34m[\u001b[0m\u001b[0;34m\"winter\"\u001b[0m\u001b[0;34m,\u001b[0m \u001b[0;34m\"summer\"\u001b[0m\u001b[0;34m,\u001b[0m \u001b[0;34m\"autumn\"\u001b[0m\u001b[0;34m,\u001b[0m \u001b[0;34m\"fall\"\u001b[0m\u001b[0;34m,\u001b[0m \u001b[0;34m\"rainy\"\u001b[0m\u001b[0;34m]\u001b[0m\u001b[0;34m\u001b[0m\u001b[0;34m\u001b[0m\u001b[0m\n\u001b[1;32m      2\u001b[0m \u001b[0;32mfor\u001b[0m \u001b[0mi\u001b[0m \u001b[0;32min\u001b[0m \u001b[0mrange\u001b[0m\u001b[0;34m(\u001b[0m\u001b[0;36m2\u001b[0m\u001b[0;34m,\u001b[0m \u001b[0mlen\u001b[0m\u001b[0;34m(\u001b[0m\u001b[0mmy_list\u001b[0m\u001b[0;34m)\u001b[0m\u001b[0;34m)\u001b[0m\u001b[0;34m:\u001b[0m\u001b[0;34m\u001b[0m\u001b[0;34m\u001b[0m\u001b[0m\n\u001b[0;32m----> 3\u001b[0;31m   \u001b[0mprint\u001b[0m\u001b[0;34m(\u001b[0m\u001b[0mmy_list\u001b[0m\u001b[0;34m(\u001b[0m\u001b[0mi\u001b[0m\u001b[0;34m)\u001b[0m\u001b[0;34m)\u001b[0m\u001b[0;34m\u001b[0m\u001b[0;34m\u001b[0m\u001b[0m\n\u001b[0m",
            "\u001b[0;31mTypeError\u001b[0m: 'list' object is not callable"
          ]
        }
      ]
    },
    {
      "cell_type": "markdown",
      "source": [
        "Else for loop"
      ],
      "metadata": {
        "id": "NKpyOtxYgSvq"
      }
    },
    {
      "cell_type": "code",
      "source": [],
      "metadata": {
        "id": "UNj1jS0PgReh"
      },
      "execution_count": null,
      "outputs": []
    },
    {
      "cell_type": "markdown",
      "source": [
        "Pass statement"
      ],
      "metadata": {
        "id": "lH5JVvGegX3F"
      }
    },
    {
      "cell_type": "code",
      "source": [
        "for x in range:\n",
        "  pass"
      ],
      "metadata": {
        "colab": {
          "base_uri": "https://localhost:8080/",
          "height": 159
        },
        "id": "VIiDy2tFgayM",
        "outputId": "55d336ef-4676-4169-8a15-cc661ca2b5c0"
      },
      "execution_count": null,
      "outputs": [
        {
          "output_type": "error",
          "ename": "TypeError",
          "evalue": "'type' object is not iterable",
          "traceback": [
            "\u001b[0;31m---------------------------------------------------------------------------\u001b[0m",
            "\u001b[0;31mTypeError\u001b[0m                                 Traceback (most recent call last)",
            "\u001b[0;32m<ipython-input-16-5a5e7bba0d65>\u001b[0m in \u001b[0;36m<cell line: 1>\u001b[0;34m()\u001b[0m\n\u001b[0;32m----> 1\u001b[0;31m \u001b[0;32mfor\u001b[0m \u001b[0mx\u001b[0m \u001b[0;32min\u001b[0m \u001b[0mrange\u001b[0m\u001b[0;34m:\u001b[0m\u001b[0;34m\u001b[0m\u001b[0;34m\u001b[0m\u001b[0m\n\u001b[0m\u001b[1;32m      2\u001b[0m   \u001b[0;32mpass\u001b[0m\u001b[0;34m\u001b[0m\u001b[0;34m\u001b[0m\u001b[0m\n",
            "\u001b[0;31mTypeError\u001b[0m: 'type' object is not iterable"
          ]
        }
      ]
    },
    {
      "cell_type": "markdown",
      "source": [
        "Nested loop"
      ],
      "metadata": {
        "id": "8PTdgGBGgwsU"
      }
    },
    {
      "cell_type": "code",
      "source": [
        "for x in range(5):\n",
        "  for y in \"Hello\":\n",
        "    print(x, y)"
      ],
      "metadata": {
        "colab": {
          "base_uri": "https://localhost:8080/"
        },
        "id": "ogqHXAfCgvWQ",
        "outputId": "fdbf4265-bb35-455a-c91e-accd00b4624b"
      },
      "execution_count": null,
      "outputs": [
        {
          "output_type": "stream",
          "name": "stdout",
          "text": [
            "0 H\n",
            "0 e\n",
            "0 l\n",
            "0 l\n",
            "0 o\n",
            "1 H\n",
            "1 e\n",
            "1 l\n",
            "1 l\n",
            "1 o\n",
            "2 H\n",
            "2 e\n",
            "2 l\n",
            "2 l\n",
            "2 o\n",
            "3 H\n",
            "3 e\n",
            "3 l\n",
            "3 l\n",
            "3 o\n",
            "4 H\n",
            "4 e\n",
            "4 l\n",
            "4 l\n",
            "4 o\n"
          ]
        }
      ]
    },
    {
      "cell_type": "code",
      "source": [
        "adj = [\"red\", \"big\", \"tasty\"]\n",
        "fruits = [\"apple\", \"banana\", \"cherry\"]\n",
        "for x in adj:\n",
        "  for y in adj:\n",
        "    #print(x,y)\n",
        "    for z in fruits:\n",
        "      print(x,y,z)"
      ],
      "metadata": {
        "colab": {
          "base_uri": "https://localhost:8080/"
        },
        "id": "kqYk2aEQiTjl",
        "outputId": "85a7791a-6d9a-43ea-d4a5-deb2e8f538c5"
      },
      "execution_count": null,
      "outputs": [
        {
          "output_type": "stream",
          "name": "stdout",
          "text": [
            "red red apple\n",
            "red red banana\n",
            "red red cherry\n",
            "red big apple\n",
            "red big banana\n",
            "red big cherry\n",
            "red tasty apple\n",
            "red tasty banana\n",
            "red tasty cherry\n",
            "big red apple\n",
            "big red banana\n",
            "big red cherry\n",
            "big big apple\n",
            "big big banana\n",
            "big big cherry\n",
            "big tasty apple\n",
            "big tasty banana\n",
            "big tasty cherry\n",
            "tasty red apple\n",
            "tasty red banana\n",
            "tasty red cherry\n",
            "tasty big apple\n",
            "tasty big banana\n",
            "tasty big cherry\n",
            "tasty tasty apple\n",
            "tasty tasty banana\n",
            "tasty tasty cherry\n"
          ]
        }
      ]
    },
    {
      "cell_type": "code",
      "source": [
        "# marks of students\n",
        "marks = [65, 70, 40, 20, 88]\n",
        "total_sum = 0\n",
        "for i in marks:\n",
        "  total_sum = total_sum + i\n",
        "  print(total_sum)\n",
        "  #total_marks = sum(marks)\n",
        "  #print(total_marks)"
      ],
      "metadata": {
        "colab": {
          "base_uri": "https://localhost:8080/"
        },
        "id": "MtCAcI4AkKQx",
        "outputId": "94d3a829-0c10-45ab-b9e1-af2e8c102ef3"
      },
      "execution_count": null,
      "outputs": [
        {
          "output_type": "stream",
          "name": "stdout",
          "text": [
            "65\n",
            "135\n",
            "175\n",
            "195\n",
            "283\n"
          ]
        }
      ]
    },
    {
      "cell_type": "code",
      "source": [
        "fruits = [\"apple\", \"banana\", \"cherry\", \"mango\", \"apricot\", \"berries\"]\n",
        "new_list = []\n",
        "for i in fruits:\n",
        "  if \"a\" in i:\n",
        "    new_list.append(i)\n",
        "print(new_list)"
      ],
      "metadata": {
        "colab": {
          "base_uri": "https://localhost:8080/"
        },
        "id": "V0MAiZsLlAFA",
        "outputId": "ee1a4b89-3956-4f69-b6be-3e4755b9e3d1"
      },
      "execution_count": null,
      "outputs": [
        {
          "output_type": "stream",
          "name": "stdout",
          "text": [
            "['apple', 'banana', 'mango', 'apricot']\n"
          ]
        }
      ]
    },
    {
      "cell_type": "code",
      "source": [
        "fruits = [\"apple\", \"banana\", \"cherry\", \"mango\", \"apricot\", \"berries\"]\n",
        "new_list = []\n",
        "for i in fruits:\n",
        "  if \"an\" in i:\n",
        "    new_list.append(i)\n",
        "print(new_list)"
      ],
      "metadata": {
        "colab": {
          "base_uri": "https://localhost:8080/"
        },
        "id": "rGzZIANXlrNH",
        "outputId": "ceeb030b-2d88-4ff9-ffc4-67b3db082181"
      },
      "execution_count": null,
      "outputs": [
        {
          "output_type": "stream",
          "name": "stdout",
          "text": [
            "['banana', 'mango']\n"
          ]
        }
      ]
    },
    {
      "cell_type": "markdown",
      "source": [
        "List Comprehesnion\n",
        "#A short syntax to create a new list based on previous list\n",
        "\n",
        "Syntax"
      ],
      "metadata": {
        "id": "FA0OyolilyQK"
      }
    },
    {
      "cell_type": "code",
      "source": [
        "fruits = [\"apple\", \"banana\", \"cherry\", \"mango\", \"apricot\", \"berries\"]\n",
        "new_list = [x for x in fruits if \"an\" in x]\n",
        "print(new_list)"
      ],
      "metadata": {
        "colab": {
          "base_uri": "https://localhost:8080/"
        },
        "id": "LRmUq_ZVlxwE",
        "outputId": "2cac4a58-1e2b-4ff6-9ee6-40f29136c000"
      },
      "execution_count": null,
      "outputs": [
        {
          "output_type": "stream",
          "name": "stdout",
          "text": [
            "['banana', 'mango']\n"
          ]
        }
      ]
    },
    {
      "cell_type": "code",
      "source": [
        "Numbers = [x for x in range(5) if x! = 3]\n",
        "print(Numbers)"
      ],
      "metadata": {
        "colab": {
          "base_uri": "https://localhost:8080/",
          "height": 106
        },
        "id": "_YOZb-m0nNP6",
        "outputId": "e90af7fc-3142-46c2-cdbe-3769f6bd612f"
      },
      "execution_count": null,
      "outputs": [
        {
          "output_type": "error",
          "ename": "SyntaxError",
          "evalue": "invalid syntax (<ipython-input-17-ded9d38db5fb>, line 1)",
          "traceback": [
            "\u001b[0;36m  File \u001b[0;32m\"<ipython-input-17-ded9d38db5fb>\"\u001b[0;36m, line \u001b[0;32m1\u001b[0m\n\u001b[0;31m    Numbers = [x for x in range(5) if x = 3]\u001b[0m\n\u001b[0m                                        ^\u001b[0m\n\u001b[0;31mSyntaxError\u001b[0m\u001b[0;31m:\u001b[0m invalid syntax\n"
          ]
        }
      ]
    },
    {
      "cell_type": "code",
      "source": [
        "statement = \"Python\"\n",
        "# Convert every charachter of this string in a list item.\n",
        "new = []\n",
        "for i"
      ],
      "metadata": {
        "id": "JPIZ3Qjkn48s"
      },
      "execution_count": null,
      "outputs": []
    },
    {
      "cell_type": "code",
      "source": [
        "# Loop through a string\n",
        "a = \"Python for Beginners\"\n",
        "for i in a:\n",
        "  if i == \" \":\n",
        "    continue\n",
        "  print(i)"
      ],
      "metadata": {
        "colab": {
          "base_uri": "https://localhost:8080/"
        },
        "id": "0Nct2yenocJm",
        "outputId": "656460c6-a4b2-48a5-dd4c-fa8e899d767a"
      },
      "execution_count": null,
      "outputs": [
        {
          "output_type": "stream",
          "name": "stdout",
          "text": [
            "P\n",
            "y\n",
            "t\n",
            "h\n",
            "o\n",
            "n\n",
            "f\n",
            "o\n",
            "r\n",
            "B\n",
            "e\n",
            "g\n",
            "i\n",
            "n\n",
            "n\n",
            "e\n",
            "r\n",
            "s\n"
          ]
        }
      ]
    },
    {
      "cell_type": "code",
      "source": [
        "# Loop through a list\n",
        "my_list = [5, 34, 98, 45]\n",
        "i = 0\n",
        "while i<len(my_list):\n",
        "  print(my_list)"
      ],
      "metadata": {
        "id": "pkRquGd7otBN"
      },
      "execution_count": null,
      "outputs": []
    },
    {
      "cell_type": "markdown",
      "source": [
        "Functions"
      ],
      "metadata": {
        "id": "jBR1rrS-pQNi"
      }
    },
    {
      "cell_type": "code",
      "source": [
        "def function1():\n",
        "  print(\"Python\")\n",
        "  print(\"Programing\")\n",
        "  print(\"Hello\")\n",
        "  x = function1()\n",
        "  print(x)"
      ],
      "metadata": {
        "id": "Ucyop3i-pTIw"
      },
      "execution_count": null,
      "outputs": []
    },
    {
      "cell_type": "code",
      "source": [
        "def myfunction(b, a):\n",
        "  c = a+b\n",
        "  print(c)"
      ],
      "metadata": {
        "id": "SCKytkSGp1GG"
      },
      "execution_count": null,
      "outputs": []
    },
    {
      "cell_type": "markdown",
      "source": [
        "Built in function"
      ],
      "metadata": {
        "id": "VciHaUl5qJYd"
      }
    },
    {
      "cell_type": "code",
      "source": [
        "#the sum() returns sum\n"
      ],
      "metadata": {
        "id": "rXp3Os2OqjQi"
      },
      "execution_count": null,
      "outputs": []
    },
    {
      "cell_type": "code",
      "source": [
        "# max() and min()\n",
        "a = 56\n",
        "b =33\n",
        "print(max(a, b))"
      ],
      "metadata": {
        "colab": {
          "base_uri": "https://localhost:8080/"
        },
        "id": "lM_WktvNqsxr",
        "outputId": "abd69f0c-ed9f-442a-8d1e-55c4b624a01d"
      },
      "execution_count": null,
      "outputs": [
        {
          "output_type": "stream",
          "name": "stdout",
          "text": [
            "56\n"
          ]
        }
      ]
    },
    {
      "cell_type": "code",
      "source": [
        " a = [\"Python\", \"Java\", \"English\", \"Arabic\", \"Zoom\", \"hello\"]\n",
        "print(max(a))\n",
        "print(min(a))"
      ],
      "metadata": {
        "colab": {
          "base_uri": "https://localhost:8080/"
        },
        "id": "0-48IHo5q8uH",
        "outputId": "c9beb509-f7d8-40ad-ff4b-558bb1a55a95"
      },
      "execution_count": null,
      "outputs": [
        {
          "output_type": "stream",
          "name": "stdout",
          "text": [
            "hello\n",
            "Arabic\n"
          ]
        }
      ]
    }
  ]
}