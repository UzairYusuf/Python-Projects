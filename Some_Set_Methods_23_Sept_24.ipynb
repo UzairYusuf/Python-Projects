{
  "nbformat": 4,
  "nbformat_minor": 0,
  "metadata": {
    "colab": {
      "provenance": [],
      "authorship_tag": "ABX9TyN0BAGLy0D23HBi3CxLZ3Ce",
      "include_colab_link": true
    },
    "kernelspec": {
      "name": "python3",
      "display_name": "Python 3"
    },
    "language_info": {
      "name": "python"
    }
  },
  "cells": [
    {
      "cell_type": "markdown",
      "metadata": {
        "id": "view-in-github",
        "colab_type": "text"
      },
      "source": [
        "<a href=\"https://colab.research.google.com/github/UzairYusuf/Python-Projects/blob/main/Some_Set_Methods_23_Sept_24.ipynb\" target=\"_parent\"><img src=\"https://colab.research.google.com/assets/colab-badge.svg\" alt=\"Open In Colab\"/></a>"
      ]
    },
    {
      "cell_type": "markdown",
      "source": [],
      "metadata": {
        "id": "gm6M2azP0H-S"
      }
    },
    {
      "cell_type": "markdown",
      "source": [],
      "metadata": {
        "id": "z2cbaNGw1Gp0"
      }
    },
    {
      "cell_type": "code",
      "execution_count": null,
      "metadata": {
        "id": "m1Gtmj-1xPJO"
      },
      "outputs": [],
      "source": [
        "# Intersection_update() method will keep only items in both sets"
      ]
    },
    {
      "cell_type": "code",
      "source": [
        "set1 = {5, True, \"Python\"}\n",
        "Set2 = {5, 6, \"Python\"}\n",
        "set1.intersection_update(Set2)\n",
        "print(set1)"
      ],
      "metadata": {
        "colab": {
          "base_uri": "https://localhost:8080/"
        },
        "id": "IkrA1rJa1VPo",
        "outputId": "21dcaa2c-70ed-4fa0-a502-8184e3dd1d28"
      },
      "execution_count": 1,
      "outputs": [
        {
          "output_type": "stream",
          "name": "stdout",
          "text": [
            "{5, 'Python'}\n"
          ]
        }
      ]
    },
    {
      "cell_type": "code",
      "source": [
        "# intersection() will return a new set, only contain items present in both sets"
      ],
      "metadata": {
        "id": "yCvtkuaq1wan"
      },
      "execution_count": null,
      "outputs": []
    },
    {
      "cell_type": "code",
      "source": [
        "set1 = {5, True, \"Python\"}\n",
        "Set2 = {5, 6, \"Python\"}\n",
        "set3 = set1.intersection(Set2)\n",
        "print(set3)"
      ],
      "metadata": {
        "colab": {
          "base_uri": "https://localhost:8080/"
        },
        "id": "-pYeKZbE2ZPU",
        "outputId": "248ee4e4-89c6-4363-ee0e-c8a03f8c6750"
      },
      "execution_count": 2,
      "outputs": [
        {
          "output_type": "stream",
          "name": "stdout",
          "text": [
            "{5, 'Python'}\n"
          ]
        }
      ]
    },
    {
      "cell_type": "code",
      "source": [
        "# difference() returns difference between two or more sets\n",
        "set1 = {5, True, 9, \"Python\"}\n",
        "Set2 = {5, 7, \"Python\"}\n",
        "Set3 = {5, 8, \"Python\"}\n",
        "x = set1.difference(Set2, Set3)\n",
        "print(x)"
      ],
      "metadata": {
        "colab": {
          "base_uri": "https://localhost:8080/"
        },
        "id": "c0ZMnHBO2lYI",
        "outputId": "3b69deca-7cb6-425a-cfd5-69d3dacf7b7b"
      },
      "execution_count": 5,
      "outputs": [
        {
          "output_type": "stream",
          "name": "stdout",
          "text": [
            "{True, 9}\n"
          ]
        }
      ]
    },
    {
      "cell_type": "code",
      "source": [
        "# The symmetric_difference() will return a new set, that are not common items\n",
        "Set1 = { \"Lahore\", \"Faisalabad\", 5,}\n",
        "Set2 = {5, 0, \"Multan\"}\n",
        "Set3 = {5, 8, \"Python\"}\n",
        "a = Set2.symmetric_difference(Set1)\n",
        "print(a)"
      ],
      "metadata": {
        "colab": {
          "base_uri": "https://localhost:8080/"
        },
        "id": "l8wYT18k3qFw",
        "outputId": "2b84ecb9-4f6b-496b-9f5a-3c7d02032342"
      },
      "execution_count": 8,
      "outputs": [
        {
          "output_type": "stream",
          "name": "stdout",
          "text": [
            "{0, 'Lahore', 'Multan', 'Faisalabad'}\n"
          ]
        }
      ]
    }
  ]
}