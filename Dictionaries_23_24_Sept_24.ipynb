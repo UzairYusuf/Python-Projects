{
  "nbformat": 4,
  "nbformat_minor": 0,
  "metadata": {
    "colab": {
      "provenance": [],
      "authorship_tag": "ABX9TyNVpIQ8kVLMc6/aALxd5rg0",
      "include_colab_link": true
    },
    "kernelspec": {
      "name": "python3",
      "display_name": "Python 3"
    },
    "language_info": {
      "name": "python"
    }
  },
  "cells": [
    {
      "cell_type": "markdown",
      "metadata": {
        "id": "view-in-github",
        "colab_type": "text"
      },
      "source": [
        "<a href=\"https://colab.research.google.com/github/UzairYusuf/Python-Projects/blob/main/Dictionaries_23_24_Sept_24.ipynb\" target=\"_parent\"><img src=\"https://colab.research.google.com/assets/colab-badge.svg\" alt=\"Open In Colab\"/></a>"
      ]
    },
    {
      "cell_type": "markdown",
      "source": [
        "Dictionaries\n",
        "Store data values in key:value pairs\n",
        "ordered, changable, no duplicate\n",
        "curly {}"
      ],
      "metadata": {
        "id": "qSlqtXVU5_rP"
      }
    },
    {
      "cell_type": "code",
      "execution_count": 9,
      "metadata": {
        "colab": {
          "base_uri": "https://localhost:8080/"
        },
        "id": "hUzM8nrH53-j",
        "outputId": "4ae1d2c5-ce1d-492f-afa8-197285215ae8"
      },
      "outputs": [
        {
          "output_type": "stream",
          "name": "stdout",
          "text": [
            "Karachi\n",
            "21\n"
          ]
        }
      ],
      "source": [
        "dict1 = {1 : \"Ali\",\n",
        "         \"age\" : 21,\n",
        "         \"Country\": \"Pakistan\",\n",
        "         \"city\" : \"Karachi\"}\n",
        "print(dict1[\"city\"])\n",
        "print(dict1[\"age\"])"
      ]
    },
    {
      "cell_type": "code",
      "source": [
        "# len() number of key value pairs in a dictionary\n",
        "print(len(dict1))"
      ],
      "metadata": {
        "colab": {
          "base_uri": "https://localhost:8080/"
        },
        "id": "qilzxpzy7aFr",
        "outputId": "4bb2291c-1c4a-4396-98aa-db67c1a1a76b"
      },
      "execution_count": null,
      "outputs": [
        {
          "output_type": "stream",
          "name": "stdout",
          "text": [
            "4\n"
          ]
        }
      ]
    },
    {
      "cell_type": "code",
      "source": [
        "# keys* and values are of any data type\n",
        "# in keys, cannot be mutable\n",
        "student_info = {\n",
        "    1 : \"Ali\",\n",
        "    \"class\" : 8,\n",
        "    (1,0) : None}\n",
        "student_info.keys()"
      ],
      "metadata": {
        "colab": {
          "base_uri": "https://localhost:8080/"
        },
        "id": "Y2l5UyaT7uUo",
        "outputId": "adddb51d-8d0a-4db9-80e5-f63ccc072693"
      },
      "execution_count": 3,
      "outputs": [
        {
          "output_type": "execute_result",
          "data": {
            "text/plain": [
              "dict_keys([1, 'class', (1, 0)])"
            ]
          },
          "metadata": {},
          "execution_count": 3
        }
      ]
    },
    {
      "cell_type": "code",
      "source": [
        "#Accessing Elements in dictonary\n",
        "dict1 = {\"name\" : \"Ali\",\n",
        "         \"age\" : 21,\n",
        "         \"country\" : \"Pakistan\",\n",
        "         \"city\" : \"Lahore\"}\n",
        "print(dict1[\"age\"])"
      ],
      "metadata": {
        "id": "6cdV2Dgt84B1",
        "colab": {
          "base_uri": "https://localhost:8080/"
        },
        "outputId": "c3391c6f-16a6-4ef9-8364-09281ea1a58f"
      },
      "execution_count": 5,
      "outputs": [
        {
          "output_type": "stream",
          "name": "stdout",
          "text": [
            "21\n"
          ]
        }
      ]
    },
    {
      "cell_type": "markdown",
      "source": [
        "Duplicate Values in Dictionay:\n",
        "duplicates allowed, duplicate keys not allowed"
      ],
      "metadata": {
        "id": "R3G5dTeXCAul"
      }
    },
    {
      "cell_type": "code",
      "source": [
        "dict2 = {\"name\" : \"Ali\",\n",
        "         \"age\" : 21,\n",
        "         \"country\" : \"Pakistan\",\n",
        "         \"country\" : \"Pakistan\", #duplicate keys not allowed\n",
        "         \"city\" : \"Pakistan\" #duplicate entry allowed\n",
        "         }\n",
        "print(dict2)\n",
        "print(dict1)"
      ],
      "metadata": {
        "colab": {
          "base_uri": "https://localhost:8080/"
        },
        "id": "0v7oCBecAod8",
        "outputId": "e077e3ca-52b4-490d-9ec1-f14d4bb60471"
      },
      "execution_count": 11,
      "outputs": [
        {
          "output_type": "stream",
          "name": "stdout",
          "text": [
            "{'name': 'Ali', 'age': 21, 'country': 'Pakistan', 'city': 'Pakistan'}\n",
            "{1: 'Ali', 'age': 21, 'Country': 'Pakistan', 'city': 'Karachi'}\n"
          ]
        }
      ]
    },
    {
      "cell_type": "code",
      "source": [
        "#Add new element\n",
        "dict2 = {\"name\" : \"Ali\",\n",
        "         \"age\" : 21,\n",
        "         \"country\" : \"Pakistan\",\n",
        "         \"city\" : \"Faisalabad\"\n",
        "         }\n",
        "dict2[\"employed\"] = 54 #pass new element\n",
        "print(dict2)"
      ],
      "metadata": {
        "colab": {
          "base_uri": "https://localhost:8080/"
        },
        "id": "42hheyH2D14x",
        "outputId": "7e4d443d-c958-4722-860f-c35862c33155"
      },
      "execution_count": 14,
      "outputs": [
        {
          "output_type": "stream",
          "name": "stdout",
          "text": [
            "{'name': 'Ali', 'age': 21, 'country': 'Pakistan', 'city': 'Faisalabad', ('employed', 'martial_status'): (54, 34)}\n"
          ]
        }
      ]
    },
    {
      "cell_type": "code",
      "source": [
        "#change value\n",
        "dict2 = {\"name\" : \"Ali\",\n",
        "         \"age\" : 21,\n",
        "         \"country\" : \"Pakistan\",\n",
        "         \"city\" : \"Faisalabad\"\n",
        "         }\n",
        "dict2[\"city\"] = \"Lahore\" #pass new value\n",
        "dict2[21] = \"Hello\" #add new key\n",
        "print(dict2)"
      ],
      "metadata": {
        "colab": {
          "base_uri": "https://localhost:8080/"
        },
        "id": "pYe2EbQEFzkJ",
        "outputId": "c3de3fbb-b699-407a-bc2b-4f37f4ca6add"
      },
      "execution_count": 15,
      "outputs": [
        {
          "output_type": "stream",
          "name": "stdout",
          "text": [
            "{'name': 'Ali', 'age': 21, 'country': 'Pakistan', 'city': 'Lahore', 21: 'Hello'}\n"
          ]
        }
      ]
    },
    {
      "cell_type": "code",
      "source": [
        "#Membership operator\n",
        "dict2 = {\"name\" : \"Ali\",\n",
        "         \"age\" : 21,\n",
        "         \"country\" : \"Pakistan\",\n",
        "         \"city\" : \"Faisalabad\"\n",
        "         }\n",
        "print(\"name\" in dict2)\n",
        "print(\"city\" in dict2)\n",
        "print(\"Pakistan\" in dict2)"
      ],
      "metadata": {
        "colab": {
          "base_uri": "https://localhost:8080/"
        },
        "id": "dzSulzuBG8mF",
        "outputId": "d383fdb5-5959-4989-ba8b-bd664e665d47"
      },
      "execution_count": 18,
      "outputs": [
        {
          "output_type": "stream",
          "name": "stdout",
          "text": [
            "True\n",
            "True\n",
            "False\n"
          ]
        }
      ]
    },
    {
      "cell_type": "code",
      "source": [
        "#iterating thru dict\n",
        "#change value\n",
        "dict2 = {\"name : \" : \"Ali\",\n",
        "         \"age : \" : 21,\n",
        "         \"country : \" : \"Pakistan\",\n",
        "         \"city : \" : \"Faisalabad\"\n",
        "         }\n",
        "#print(dict2[\"age\"])\n",
        "for i in dict2:\n",
        "  print(i, dict2[i]) #for loop will go thru each key one by one and print it with its value\n",
        "#print(value)"
      ],
      "metadata": {
        "colab": {
          "base_uri": "https://localhost:8080/"
        },
        "id": "ar_kFzy0Hby9",
        "outputId": "bcfe3345-3a6f-4a0e-e3b9-ff65a33f3a19"
      },
      "execution_count": 22,
      "outputs": [
        {
          "output_type": "stream",
          "name": "stdout",
          "text": [
            "name :  Ali\n",
            "age :  21\n",
            "country :  Pakistan\n",
            "city :  Faisalabad\n"
          ]
        }
      ]
    },
    {
      "cell_type": "markdown",
      "source": [
        "Nested Dictionary:"
      ],
      "metadata": {
        "id": "QGMxLMZqJ5Uc"
      }
    },
    {
      "cell_type": "code",
      "source": [
        "dict2 = {\"name : \" : \"Ali\",\n",
        "         \"age : \" : 21,\n",
        "         \"country : \" : \"Pakistan\",\n",
        "         \"city : \" : \"Faisalabad\",\n",
        "         \"dict3\" : {\"status\" : \"employed\", \"profession\" : \"Teaching\"}, #nested dictionay\n",
        "         }\n",
        "print(dict2[\"dict3\"]) #can print nested dict\n",
        "print(dict2[\"dict3\"][\"status\"]) #can print nested dict value\n",
        "#print(dict3)"
      ],
      "metadata": {
        "colab": {
          "base_uri": "https://localhost:8080/"
        },
        "id": "HR1PkeUKJ0fl",
        "outputId": "3bc07727-65a1-4bfa-f2fa-3d271db03fd1"
      },
      "execution_count": 28,
      "outputs": [
        {
          "output_type": "stream",
          "name": "stdout",
          "text": [
            "{'status': 'employed', 'profession': 'Teaching'}\n",
            "employed\n"
          ]
        }
      ]
    }
  ]
}