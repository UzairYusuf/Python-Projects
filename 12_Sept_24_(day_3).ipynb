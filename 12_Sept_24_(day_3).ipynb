{
  "nbformat": 4,
  "nbformat_minor": 0,
  "metadata": {
    "colab": {
      "provenance": [],
      "authorship_tag": "ABX9TyN7KTDWoIZtQjnSpFC1SXHc",
      "include_colab_link": true
    },
    "kernelspec": {
      "name": "python3",
      "display_name": "Python 3"
    },
    "language_info": {
      "name": "python"
    }
  },
  "cells": [
    {
      "cell_type": "markdown",
      "metadata": {
        "id": "view-in-github",
        "colab_type": "text"
      },
      "source": [
        "<a href=\"https://colab.research.google.com/github/UzairYusuf/Python-Projects/blob/main/12_Sept_24_(day_3).ipynb\" target=\"_parent\"><img src=\"https://colab.research.google.com/assets/colab-badge.svg\" alt=\"Open In Colab\"/></a>"
      ]
    },
    {
      "cell_type": "code",
      "execution_count": null,
      "metadata": {
        "id": "EdDgTHz_N27h"
      },
      "outputs": [],
      "source": [
        "String = \"Strings are immutable\""
      ]
    },
    {
      "cell_type": "markdown",
      "source": [
        "List\n",
        "Used to store multiple items in a single variable.\n",
        "Ordered, changable, allow duplicate\n",
        "Any data type"
      ],
      "metadata": {
        "id": "sx4_PU39ON5w"
      }
    },
    {
      "cell_type": "code",
      "source": [
        "list1 = [\"cool\",5, \"\", \"table\", 4.3, True, \"cool\"]\n",
        "print(list1)\n",
        "print(type(list1))\n",
        "print(list1[1:6:2]) # 6th index is not included\n",
        "print(len(list1)) # for list length\n",
        "print(list1[0:3:1]) # range of items\n",
        "print(list[-1]) # access list items\n",
        "print(list1[-1]) # -ve index\n",
        "print(list1[-2:-4:-1]) # range of -ve index"
      ],
      "metadata": {
        "colab": {
          "base_uri": "https://localhost:8080/"
        },
        "id": "AFO7sWPiOrgl",
        "outputId": "2faffe73-4333-4c33-a2e3-b52ecc9237b0"
      },
      "execution_count": null,
      "outputs": [
        {
          "output_type": "stream",
          "name": "stdout",
          "text": [
            "['cool', 5, '', 'table', 4.3, True, 'cool']\n",
            "<class 'list'>\n",
            "[5, 'table', True]\n",
            "7\n",
            "['cool', 5, '']\n",
            "list[-1]\n",
            "cool\n",
            "[True, 4.3]\n"
          ]
        }
      ]
    },
    {
      "cell_type": "markdown",
      "source": [
        "Membership Operators in List"
      ],
      "metadata": {
        "id": "Q0CUFh_US6YB"
      }
    },
    {
      "cell_type": "code",
      "source": [
        "list1 = [\"cool\",5, \"table\", 4.3, True]\n",
        "print(5 in list1)\n",
        "print (5 not in list1)"
      ],
      "metadata": {
        "colab": {
          "base_uri": "https://localhost:8080/"
        },
        "id": "8_ewdvAMS-tm",
        "outputId": "06e78ca5-16e9-43a5-9b59-833195366eae"
      },
      "execution_count": null,
      "outputs": [
        {
          "output_type": "stream",
          "name": "stdout",
          "text": [
            "True\n",
            "False\n"
          ]
        }
      ]
    },
    {
      "cell_type": "markdown",
      "source": [
        "Change List Items9"
      ],
      "metadata": {
        "id": "dN_hikIAQjBw"
      }
    },
    {
      "cell_type": "code",
      "source": [
        "list2 = [\"summer\", \"winter\", \"spring\", \"autumn\"]\n",
        "list2[1] = \"go!\" # add new value at given index\n",
        "print(list2)\n",
        "list2[0] = \"day\"\n",
        "print(list2)\n",
        "list2[0:3] = [\"list\"]\n",
        "print(list2)"
      ],
      "metadata": {
        "colab": {
          "base_uri": "https://localhost:8080/"
        },
        "id": "Mc06fQ9VTTNg",
        "outputId": "2ee81966-5817-4132-9bf2-76453b394c83"
      },
      "execution_count": null,
      "outputs": [
        {
          "output_type": "stream",
          "name": "stdout",
          "text": [
            "['summer', 'go!', 'spring', 'autumn']\n",
            "['day', 'go!', 'spring', 'autumn']\n",
            "['list', 'autumn']\n"
          ]
        }
      ]
    },
    {
      "cell_type": "markdown",
      "source": [
        "Add List Items\n",
        "append() method\n",
        "insert()\n",
        "extend()"
      ],
      "metadata": {
        "id": "59WwYLpBVvq1"
      }
    },
    {
      "cell_type": "code",
      "source": [
        "list1 = [\"cool\", 5, \"table\", 4.3, True]\n",
        "list2 = [\"summer\", \"winter\", \"spring\", \"autumn\"]\n",
        "# to add an item to end use append()\n",
        "list2.append([\"rainy season\", \"python\"])\n",
        "print(list2)"
      ],
      "metadata": {
        "colab": {
          "base_uri": "https://localhost:8080/"
        },
        "id": "s88nlP_qVtKR",
        "outputId": "755c3309-5aa9-4df3-ca3e-6bd8a4f573a4"
      },
      "execution_count": null,
      "outputs": [
        {
          "output_type": "stream",
          "name": "stdout",
          "text": [
            "['summer', 'winter', 'spring', 'autumn', ['rainy season', 'python']]\n"
          ]
        }
      ]
    },
    {
      "cell_type": "code",
      "source": [
        "# to insert a list item at a specified index, use insert() method\n",
        "list1.insert(3, \"Add in it\") # add at index 3 in list1\n",
        "print(list1)"
      ],
      "metadata": {
        "colab": {
          "base_uri": "https://localhost:8080/"
        },
        "id": "P3-9U1s5W5P1",
        "outputId": "7ac69ffe-7736-4abc-b6c4-464dd0c1940f"
      },
      "execution_count": null,
      "outputs": [
        {
          "output_type": "stream",
          "name": "stdout",
          "text": [
            "['cool', 5, 'table', 'Add in it', 4.3, True]\n"
          ]
        }
      ]
    },
    {
      "cell_type": "code",
      "source": [
        "# to append elements from other list to cuurent list\n"
      ],
      "metadata": {
        "id": "AqOhblEdXuwT"
      },
      "execution_count": null,
      "outputs": []
    },
    {
      "cell_type": "code",
      "source": [
        "list1.extend([\"rainy season\", \"python\"])\n",
        "print(list1)"
      ],
      "metadata": {
        "colab": {
          "base_uri": "https://localhost:8080/"
        },
        "id": "LJ0NhJYmYKYU",
        "outputId": "f7b3a9c2-7df1-43eb-ed90-59d4df27af28"
      },
      "execution_count": null,
      "outputs": [
        {
          "output_type": "stream",
          "name": "stdout",
          "text": [
            "['cool', 5, 'table', 4.3, True, 'rainy season', 'python', 'rainy season', 'python']\n"
          ]
        }
      ]
    },
    {
      "cell_type": "code",
      "source": [
        "print(list2)"
      ],
      "metadata": {
        "colab": {
          "base_uri": "https://localhost:8080/"
        },
        "id": "hdBUt73ea2CS",
        "outputId": "670b80dc-5727-4465-d121-e8278817183f"
      },
      "execution_count": null,
      "outputs": [
        {
          "output_type": "stream",
          "name": "stdout",
          "text": [
            "['summer', 'winter', 'spring', 'autumn', ['rainy season', 'python']]\n"
          ]
        }
      ]
    },
    {
      "cell_type": "code",
      "source": [
        "list2.extend([\"rainy season\", \"python\"])\n",
        "print(list2)"
      ],
      "metadata": {
        "colab": {
          "base_uri": "https://localhost:8080/"
        },
        "id": "3ts0UmdzbBp5",
        "outputId": "8b5082c2-e9b6-45a1-86b7-931a0cb602a5"
      },
      "execution_count": null,
      "outputs": [
        {
          "output_type": "stream",
          "name": "stdout",
          "text": [
            "['summer', 'winter', 'spring', 'autumn', ['rainy season', 'python'], 'rainy season', 'python', 'rainy season', 'python']\n"
          ]
        }
      ]
    },
    {
      "cell_type": "code",
      "source": [
        "list2.insert(5, \"add\")\n",
        "print(list2)"
      ],
      "metadata": {
        "colab": {
          "base_uri": "https://localhost:8080/"
        },
        "id": "f1LqWNSVbvrf",
        "outputId": "a77f5a9c-0acb-456a-d053-033c9d5306d3"
      },
      "execution_count": null,
      "outputs": [
        {
          "output_type": "stream",
          "name": "stdout",
          "text": [
            "['summer', 'winter', 'spring', 'autumn', ['rainy season', 'python'], 'add', 'rainy season', 'python', 'rainy season', 'python']\n"
          ]
        }
      ]
    },
    {
      "cell_type": "code",
      "source": [
        "list1.extend(list2)\n",
        "print(list1)"
      ],
      "metadata": {
        "colab": {
          "base_uri": "https://localhost:8080/"
        },
        "id": "U8s084_Xc-9y",
        "outputId": "03d9ed79-2c0e-42f5-d716-8bcd50009bc5"
      },
      "execution_count": null,
      "outputs": [
        {
          "output_type": "stream",
          "name": "stdout",
          "text": [
            "['cool', 5, 'table', 4.3, True, 'summer', 'winter', 'spring', 'autumn', ['rainy season', 'python'], 'add', 'rainy season', 'python', 'rainy season', 'python']\n"
          ]
        }
      ]
    }
  ]
}