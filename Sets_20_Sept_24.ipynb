{
  "nbformat": 4,
  "nbformat_minor": 0,
  "metadata": {
    "colab": {
      "provenance": [],
      "authorship_tag": "ABX9TyNGEDQCLqhqELDMeNpQGppr",
      "include_colab_link": true
    },
    "kernelspec": {
      "name": "python3",
      "display_name": "Python 3"
    },
    "language_info": {
      "name": "python"
    }
  },
  "cells": [
    {
      "cell_type": "markdown",
      "metadata": {
        "id": "view-in-github",
        "colab_type": "text"
      },
      "source": [
        "<a href=\"https://colab.research.google.com/github/UzairYusuf/Python-Projects/blob/main/Sets_20_Sept_24.ipynb\" target=\"_parent\"><img src=\"https://colab.research.google.com/assets/colab-badge.svg\" alt=\"Open In Colab\"/></a>"
      ]
    },
    {
      "cell_type": "markdown",
      "source": [
        "Sets"
      ],
      "metadata": {
        "id": "Am2b1d9cyBQu"
      }
    },
    {
      "cell_type": "markdown",
      "source": [
        "Sets\n",
        "Used to store multiple values of different data types\n",
        "unorderd, unindexed, unchagable\n",
        "duplicate values not allowed\n",
        "unmutable - can add and remove items\n",
        "written in {}"
      ],
      "metadata": {
        "id": "F9aVlLtjblXw"
      }
    },
    {
      "cell_type": "code",
      "execution_count": null,
      "metadata": {
        "colab": {
          "base_uri": "https://localhost:8080/"
        },
        "id": "KY8w0GnHZZr4",
        "outputId": "9bc9e44a-c058-4b8d-9798-e84defce6ba7"
      },
      "outputs": [
        {
          "output_type": "stream",
          "name": "stdout",
          "text": [
            "{1, 5, 'Faisalabad', 'Lahore'}\n",
            "<class 'set'>\n"
          ]
        }
      ],
      "source": [
        "List = [\"Lahore\", 5, \"Faisalabad\", 1, 5, True]\n",
        "List = set(List)\n",
        "print(List)\n",
        "print(type(List))"
      ]
    },
    {
      "cell_type": "code",
      "source": [
        "# Duplicate not allowed in sets\n",
        "set1 ={\"Lahore\", 5, \"Faisalabad\", 1, 5, True, \"Lahore\"}\n",
        "print(set1)\n",
        "set2 = {5, True, 5}\n",
        "print(set2)"
      ],
      "metadata": {
        "colab": {
          "base_uri": "https://localhost:8080/"
        },
        "id": "LQLUHbQGcmrM",
        "outputId": "78549625-f853-4939-e1ac-cc27f7b135a4"
      },
      "execution_count": null,
      "outputs": [
        {
          "output_type": "stream",
          "name": "stdout",
          "text": [
            "{1, 'Faisalabad', 5, 'Lahore'}\n",
            "{True, 5}\n"
          ]
        }
      ]
    },
    {
      "cell_type": "markdown",
      "source": [
        "# Length of set() - number of items in a set"
      ],
      "metadata": {
        "id": "s9v1yjPEetWi"
      }
    },
    {
      "cell_type": "code",
      "source": [
        "set1 = {\"Lahore\", 5, \"Faisalabad\", 1, 5, True, \"lahore\"} # duplicate not allowed\n",
        "print(len(set1))"
      ],
      "metadata": {
        "colab": {
          "base_uri": "https://localhost:8080/"
        },
        "id": "RIkOAyfae40u",
        "outputId": "f40388de-5bfa-42fa-f6df-fd42a962e3c4"
      },
      "execution_count": null,
      "outputs": [
        {
          "output_type": "stream",
          "name": "stdout",
          "text": [
            "5\n"
          ]
        }
      ]
    },
    {
      "cell_type": "markdown",
      "source": [
        "Access Set Items\n",
        "\n",
        "\n",
        "Cannot access - but use loop"
      ],
      "metadata": {
        "id": "IDxkcd41fR3O"
      }
    },
    {
      "cell_type": "code",
      "source": [
        "set1 = {\"Lahore\", \"Faisalabad\", 5, 5, True}\n",
        "if \"Karachi\" in set1:\n",
        "    print(\"True\")\n",
        "else:\n",
        "    print(\"False\")"
      ],
      "metadata": {
        "colab": {
          "base_uri": "https://localhost:8080/"
        },
        "id": "h254GK0ofPMW",
        "outputId": "5a424d5a-866f-48ec-d03f-c8215b123e95"
      },
      "execution_count": null,
      "outputs": [
        {
          "output_type": "stream",
          "name": "stdout",
          "text": [
            "False\n"
          ]
        }
      ]
    },
    {
      "cell_type": "code",
      "source": [
        "set1 = {\"Lahore\", \"Faisalabad\", 5, 5, True}\n",
        "print(\"Lahore\" in set1)"
      ],
      "metadata": {
        "colab": {
          "base_uri": "https://localhost:8080/"
        },
        "id": "YebNTQHZgY89",
        "outputId": "809251e4-2c79-4ae8-e894-70a41a77c423"
      },
      "execution_count": null,
      "outputs": [
        {
          "output_type": "stream",
          "name": "stdout",
          "text": [
            "True\n"
          ]
        }
      ]
    },
    {
      "cell_type": "markdown",
      "source": [
        "Add Items in a set\n",
        "Cannot change set\n",
        "add item thru add()"
      ],
      "metadata": {
        "id": "yCixsWMphtDl"
      }
    },
    {
      "cell_type": "code",
      "source": [
        "set1 = {\"Lahore\", \"Faisalabad\", 5, 5, True}\n",
        "set1.add(\"Karachi\")\n",
        "print(set1)"
      ],
      "metadata": {
        "colab": {
          "base_uri": "https://localhost:8080/"
        },
        "id": "LKCZnwcGgs46",
        "outputId": "6c2205e4-5a29-4007-8b1c-f3dc09bd7005"
      },
      "execution_count": null,
      "outputs": [
        {
          "output_type": "stream",
          "name": "stdout",
          "text": [
            "{True, 'Faisalabad', 5, 'Karachi', 'Lahore'}\n"
          ]
        }
      ]
    },
    {
      "cell_type": "code",
      "source": [
        "set1 = {\"Lahore\", \"Faisalabad\", 5, 5, True}\n",
        "set2 = {5, 0, False} # False value is 0 so it is not printed\n",
        "set1.update(set2)\n",
        "print(set1)"
      ],
      "metadata": {
        "colab": {
          "base_uri": "https://localhost:8080/"
        },
        "id": "SxAdxaHbiEGv",
        "outputId": "120bdc2b-74e5-49d2-9205-2038ad7e3a39"
      },
      "execution_count": null,
      "outputs": [
        {
          "output_type": "stream",
          "name": "stdout",
          "text": [
            "{0, True, 'Faisalabad', 5, 'Lahore'}\n"
          ]
        }
      ]
    },
    {
      "cell_type": "markdown",
      "source": [
        "Remove Set Items"
      ],
      "metadata": {
        "id": "Pq475zBFjbS6"
      }
    },
    {
      "cell_type": "code",
      "source": [
        "set1 = {\"Lahore\", \"Faisalabad\", 5, 5, True}\n",
        "set1.remove(\"Lahore\")\n",
        "print(set1)"
      ],
      "metadata": {
        "colab": {
          "base_uri": "https://localhost:8080/"
        },
        "id": "2z12NcSZicLC",
        "outputId": "8252cbae-4520-4e20-b48a-689e993cb50d"
      },
      "execution_count": null,
      "outputs": [
        {
          "output_type": "stream",
          "name": "stdout",
          "text": [
            "{True, 'Faisalabad', 5}\n"
          ]
        }
      ]
    },
    {
      "cell_type": "code",
      "source": [
        "set1 = {\"Lahore\", \"Faisalabad\", 5, 5, True}\n",
        "set1.discard(True)\n",
        "print(set1)"
      ],
      "metadata": {
        "colab": {
          "base_uri": "https://localhost:8080/"
        },
        "id": "ZPRNhq8UjhDV",
        "outputId": "c3f73881-39d5-43be-8202-66b1f12992a0"
      },
      "execution_count": null,
      "outputs": [
        {
          "output_type": "stream",
          "name": "stdout",
          "text": [
            "{'Faisalabad', 5, 'Lahore'}\n"
          ]
        }
      ]
    },
    {
      "cell_type": "code",
      "source": [
        "set1 = {\"Lahore\", \"Faisalabad\", 5, 5, True}\n",
        "set1.clear()\n",
        "print(set1)"
      ],
      "metadata": {
        "colab": {
          "base_uri": "https://localhost:8080/"
        },
        "id": "HIXlj72ujtWA",
        "outputId": "00e8f043-86d4-4a44-9b6b-c2df844961fd"
      },
      "execution_count": null,
      "outputs": [
        {
          "output_type": "stream",
          "name": "stdout",
          "text": [
            "set()\n"
          ]
        }
      ]
    },
    {
      "cell_type": "code",
      "source": [
        "set1 = {\"Lahore\", \"Faisalabad\", 5, 5, True}\n",
        "set1.pop(\"Lahore\")\n",
        "print(set1)"
      ],
      "metadata": {
        "colab": {
          "base_uri": "https://localhost:8080/",
          "height": 176
        },
        "id": "AfZI033xj5Y_",
        "outputId": "72f7256d-c04d-4f41-adcd-e917f9c66d17"
      },
      "execution_count": null,
      "outputs": [
        {
          "output_type": "error",
          "ename": "TypeError",
          "evalue": "set.pop() takes no arguments (1 given)",
          "traceback": [
            "\u001b[0;31m---------------------------------------------------------------------------\u001b[0m",
            "\u001b[0;31mTypeError\u001b[0m                                 Traceback (most recent call last)",
            "\u001b[0;32m<ipython-input-15-735782260693>\u001b[0m in \u001b[0;36m<cell line: 2>\u001b[0;34m()\u001b[0m\n\u001b[1;32m      1\u001b[0m \u001b[0mset1\u001b[0m \u001b[0;34m=\u001b[0m \u001b[0;34m{\u001b[0m\u001b[0;34m\"Lahore\"\u001b[0m\u001b[0;34m,\u001b[0m \u001b[0;34m\"Faisalabad\"\u001b[0m\u001b[0;34m,\u001b[0m \u001b[0;36m5\u001b[0m\u001b[0;34m,\u001b[0m \u001b[0;36m5\u001b[0m\u001b[0;34m,\u001b[0m \u001b[0;32mTrue\u001b[0m\u001b[0;34m}\u001b[0m\u001b[0;34m\u001b[0m\u001b[0;34m\u001b[0m\u001b[0m\n\u001b[0;32m----> 2\u001b[0;31m \u001b[0mset1\u001b[0m\u001b[0;34m.\u001b[0m\u001b[0mpop\u001b[0m\u001b[0;34m(\u001b[0m\u001b[0;34m\"Lahore\"\u001b[0m\u001b[0;34m)\u001b[0m\u001b[0;34m\u001b[0m\u001b[0;34m\u001b[0m\u001b[0m\n\u001b[0m\u001b[1;32m      3\u001b[0m \u001b[0mprint\u001b[0m\u001b[0;34m(\u001b[0m\u001b[0mset1\u001b[0m\u001b[0;34m)\u001b[0m\u001b[0;34m\u001b[0m\u001b[0;34m\u001b[0m\u001b[0m\n",
            "\u001b[0;31mTypeError\u001b[0m: set.pop() takes no arguments (1 given)"
          ]
        }
      ]
    }
  ]
}