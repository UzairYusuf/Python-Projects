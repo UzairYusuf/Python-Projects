{
  "nbformat": 4,
  "nbformat_minor": 0,
  "metadata": {
    "colab": {
      "provenance": [],
      "authorship_tag": "ABX9TyM7TVrAtBsC7oTId9oiF1qY",
      "include_colab_link": true
    },
    "kernelspec": {
      "name": "python3",
      "display_name": "Python 3"
    },
    "language_info": {
      "name": "python"
    }
  },
  "cells": [
    {
      "cell_type": "markdown",
      "metadata": {
        "id": "view-in-github",
        "colab_type": "text"
      },
      "source": [
        "<a href=\"https://colab.research.google.com/github/UzairYusuf/Python-Projects/blob/main/11_Sept_2024_Day_2.ipynb\" target=\"_parent\"><img src=\"https://colab.research.google.com/assets/colab-badge.svg\" alt=\"Open In Colab\"/></a>"
      ]
    },
    {
      "cell_type": "markdown",
      "source": [
        "Remove White spaces"
      ],
      "metadata": {
        "id": "U_NYWGNzI6vR"
      }
    },
    {
      "cell_type": "code",
      "execution_count": null,
      "metadata": {
        "colab": {
          "base_uri": "https://localhost:8080/"
        },
        "id": "AsGfC9QiHjJD",
        "outputId": "21ee6cc2-1908-401d-927a-731ca88f194a"
      },
      "outputs": [
        {
          "output_type": "stream",
          "name": "stdout",
          "text": [
            "Hello\n",
            "llo\n"
          ]
        }
      ],
      "source": [
        "x = \"Hello\"\n",
        "print(x)\n",
        "print(x.strip(\"He\"))"
      ]
    },
    {
      "cell_type": "code",
      "source": [
        "x = \"Hello World!\"\n",
        "print(x)\n",
        "print(x.strip(\"He\"))\n",
        "print(x.strip(\"Hello\"))\n",
        "print(x.strip(\"World!\"))"
      ],
      "metadata": {
        "colab": {
          "base_uri": "https://localhost:8080/"
        },
        "id": "PySzw5zUIEkx",
        "outputId": "26c011c7-cb24-4661-9863-fa7b256e4961"
      },
      "execution_count": null,
      "outputs": [
        {
          "output_type": "stream",
          "name": "stdout",
          "text": [
            "Hello World!\n",
            "llo World!\n",
            " World!\n",
            "Hello \n"
          ]
        }
      ]
    },
    {
      "cell_type": "markdown",
      "source": [
        "Replace String: The replace() method replaces a string with another string."
      ],
      "metadata": {
        "id": "kXD7Be0SIoFa"
      }
    },
    {
      "cell_type": "code",
      "source": [
        "string = \"Hello there!\"\n",
        "string4 = \"Hello world\"\n",
        "print(string4.replace (\"word\",\"Hy\"))\n",
        "print(string4.replace (\"world\",\"Hy\"))"
      ],
      "metadata": {
        "colab": {
          "base_uri": "https://localhost:8080/"
        },
        "id": "LubT9-zmInHg",
        "outputId": "f0a6b958-2912-4cff-92b0-9cf21ef3a828"
      },
      "execution_count": null,
      "outputs": [
        {
          "output_type": "stream",
          "name": "stdout",
          "text": [
            "Hello world\n",
            "Hello Hy\n"
          ]
        }
      ]
    },
    {
      "cell_type": "markdown",
      "source": [
        "Split String\n",
        "The split() method returns a list where the text between the specified separator becomes the list items."
      ],
      "metadata": {
        "id": "MfN34br9KEU1"
      }
    },
    {
      "cell_type": "code",
      "source": [
        "message = \"We can use split method to change our string into a split list.\"\n",
        "print(\" \".join(message.split(\"s\")))\n",
        "print(message.split(\"split\"))\n",
        "print(message.split(\"pakistan\")) #searches for word, if not there prints as it is."
      ],
      "metadata": {
        "colab": {
          "base_uri": "https://localhost:8080/"
        },
        "id": "8jsc8QNlKUg4",
        "outputId": "25a4b8e8-6a64-45ad-a863-8e8d3366b972"
      },
      "execution_count": null,
      "outputs": [
        {
          "output_type": "stream",
          "name": "stdout",
          "text": [
            "We can u e  plit method to change our  tring into a  plit li t.\n",
            "['We can use ', ' method to change our string into a ', ' list.']\n",
            "['We can use split method to change our string into a split list.']\n"
          ]
        }
      ]
    },
    {
      "cell_type": "markdown",
      "source": [
        "Reverse of a String\n",
        "reversed() function is used to get the reverse of specified method"
      ],
      "metadata": {
        "id": "qk_5wuFdL-tk"
      }
    },
    {
      "cell_type": "code",
      "source": [
        "a = \"Hello there!\"\n",
        "print(reversed(a)) #return type memory location\n",
        "print(\"\".join(reversed(a)))"
      ],
      "metadata": {
        "colab": {
          "base_uri": "https://localhost:8080/"
        },
        "id": "RMFktQmpL96t",
        "outputId": "e7912718-4003-4079-83d7-9daecf0a0870"
      },
      "execution_count": null,
      "outputs": [
        {
          "output_type": "stream",
          "name": "stdout",
          "text": [
            "<reversed object at 0x7bbf3184dba0>\n",
            "!ereht olleH\n"
          ]
        }
      ]
    },
    {
      "cell_type": "code",
      "source": [
        "x = 1210\n",
        "print(\"\".join(reversed(str(x)))) #to reverse string str() is used"
      ],
      "metadata": {
        "colab": {
          "base_uri": "https://localhost:8080/"
        },
        "id": "q8qXk7KbOSc2",
        "outputId": "7bbfd48d-78aa-4abe-e629-9261291da168"
      },
      "execution_count": null,
      "outputs": [
        {
          "output_type": "stream",
          "name": "stdout",
          "text": [
            "0121\n"
          ]
        }
      ]
    },
    {
      "cell_type": "code",
      "source": [
        "x = 'Python'\n",
        "print(x)"
      ],
      "metadata": {
        "colab": {
          "base_uri": "https://localhost:8080/"
        },
        "id": "fsPkmfB5Oqrb",
        "outputId": "acf69613-93ab-425a-f8af-c1d3533b7e60"
      },
      "execution_count": null,
      "outputs": [
        {
          "output_type": "stream",
          "name": "stdout",
          "text": [
            "Python\n"
          ]
        }
      ]
    }
  ]
}