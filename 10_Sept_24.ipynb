{
  "nbformat": 4,
  "nbformat_minor": 0,
  "metadata": {
    "colab": {
      "provenance": [],
      "authorship_tag": "ABX9TyN78n/n3bq2f0xXr5Zsro2p",
      "include_colab_link": true
    },
    "kernelspec": {
      "name": "python3",
      "display_name": "Python 3"
    },
    "language_info": {
      "name": "python"
    }
  },
  "cells": [
    {
      "cell_type": "markdown",
      "metadata": {
        "id": "view-in-github",
        "colab_type": "text"
      },
      "source": [
        "<a href=\"https://colab.research.google.com/github/UzairYusuf/Python-Projects/blob/main/10_Sept_24.ipynb\" target=\"_parent\"><img src=\"https://colab.research.google.com/assets/colab-badge.svg\" alt=\"Open In Colab\"/></a>"
      ]
    },
    {
      "cell_type": "code",
      "source": [
        "a= \"hello, world\"\n",
        "print(a.count(\"o\"))\n",
        "print(a.count(\"l\"))\n",
        "print(a.endswith(\"d\"))\n",
        "print(a.startswith(\"e\"))\n",
        "print(a.find(\"o\"))"
      ],
      "metadata": {
        "colab": {
          "base_uri": "https://localhost:8080/"
        },
        "id": "WurqLoJm_vdZ",
        "outputId": "6cf55146-aa00-45db-9321-d53e0792cf8b"
      },
      "execution_count": null,
      "outputs": [
        {
          "output_type": "stream",
          "name": "stdout",
          "text": [
            "2\n",
            "3\n",
            "True\n",
            "False\n",
            "4\n"
          ]
        }
      ]
    },
    {
      "cell_type": "code",
      "source": [
        "x"
      ],
      "metadata": {
        "id": "C7ihVT28Ba7T"
      },
      "execution_count": null,
      "outputs": []
    },
    {
      "cell_type": "markdown",
      "source": [
        "Escape Character"
      ],
      "metadata": {
        "id": "Bm7pVyq3Bf2d"
      }
    },
    {
      "cell_type": "markdown",
      "source": [
        "Formatted String"
      ],
      "metadata": {
        "id": "IsO0nEdwDJxJ"
      }
    },
    {
      "cell_type": "code",
      "source": [
        "x=\"Ï don't know {}. I have no idea.\"\n",
        "print(x.format(\"programing\"))"
      ],
      "metadata": {
        "colab": {
          "base_uri": "https://localhost:8080/"
        },
        "id": "lR-fyniGDMzN",
        "outputId": "1750cf06-b712-4298-c433-ca5f97fef277"
      },
      "execution_count": null,
      "outputs": [
        {
          "output_type": "stream",
          "name": "stdout",
          "text": [
            "Ï don't know programing. I have no idea.\n"
          ]
        }
      ]
    }
  ]
}