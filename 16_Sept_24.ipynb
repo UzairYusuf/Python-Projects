{
  "nbformat": 4,
  "nbformat_minor": 0,
  "metadata": {
    "colab": {
      "provenance": [],
      "authorship_tag": "ABX9TyM2T92kXuSFmtsXcUJTQ4re",
      "include_colab_link": true
    },
    "kernelspec": {
      "name": "python3",
      "display_name": "Python 3"
    },
    "language_info": {
      "name": "python"
    }
  },
  "cells": [
    {
      "cell_type": "markdown",
      "metadata": {
        "id": "view-in-github",
        "colab_type": "text"
      },
      "source": [
        "<a href=\"https://colab.research.google.com/github/UzairYusuf/Python-Projects/blob/main/16_Sept_24.ipynb\" target=\"_parent\"><img src=\"https://colab.research.google.com/assets/colab-badge.svg\" alt=\"Open In Colab\"/></a>"
      ]
    },
    {
      "cell_type": "markdown",
      "source": [
        "Sort List\n",
        "Sort the list alphanumerically, ascending\n",
        "for descending reverse = True\n",
        "Case"
      ],
      "metadata": {
        "id": "wCZitd--01Zj"
      }
    },
    {
      "cell_type": "code",
      "execution_count": null,
      "metadata": {
        "colab": {
          "base_uri": "https://localhost:8080/"
        },
        "id": "mIvRUaFz0FT5",
        "outputId": "a8855e5a-ffa9-41fd-98e2-356cd718e287"
      },
      "outputs": [
        {
          "output_type": "stream",
          "name": "stdout",
          "text": [
            "['7', '9', 'Sping', 'autumn', 'summer', 'winter']\n"
          ]
        }
      ],
      "source": [
        "list2 = [\"summer\", \"winter\", \"autumn\", \"Sping\", \"7\", \"9\"]\n",
        "list2.sort()\n",
        "print(list2)"
      ]
    },
    {
      "cell_type": "code",
      "source": [
        "list2.sort(reverse = True)\n",
        "print(list2)\n",
        "sortedlist = list2.sort() # not working : issue?\n",
        "print(sortedlist)"
      ],
      "metadata": {
        "colab": {
          "base_uri": "https://localhost:8080/"
        },
        "id": "T-ROrZfc1Zdh",
        "outputId": "251cc7f5-891c-4b00-f0e2-9aba52f179ac"
      },
      "execution_count": null,
      "outputs": [
        {
          "output_type": "stream",
          "name": "stdout",
          "text": [
            "['winter', 'summer', 'autumn', 'Sping', '9', '7']\n",
            "None\n",
            "['7', '9', 'Sping', 'autumn', 'summer', 'winter']\n",
            "None\n"
          ]
        }
      ]
    },
    {
      "cell_type": "code",
      "source": [
        "numbers = [5, 8, 12, 8, 3]\n",
        "print(numbers)\n",
        "numbers.sort(reverse = True)\n",
        "print(numbers)"
      ],
      "metadata": {
        "colab": {
          "base_uri": "https://localhost:8080/"
        },
        "id": "BDMuQuQV2Xin",
        "outputId": "69ea3d2d-5a47-4679-e162-48f6b7169d29"
      },
      "execution_count": null,
      "outputs": [
        {
          "output_type": "stream",
          "name": "stdout",
          "text": [
            "[5, 8, 12, 8, 3]\n",
            "[12, 8, 8, 5, 3]\n"
          ]
        }
      ]
    },
    {
      "cell_type": "markdown",
      "source": [],
      "metadata": {
        "id": "wljQjfCu3qqf"
      }
    },
    {
      "cell_type": "code",
      "source": [
        "list4 = [\"apple\", \"8\", \"Winter\", \"6.0\"]\n",
        "list4.sort()\n",
        "print(list4)\n",
        "list4.sort(reverse = True)\n",
        "print(list4)"
      ],
      "metadata": {
        "colab": {
          "base_uri": "https://localhost:8080/"
        },
        "id": "Fg4kYrEe3iOc",
        "outputId": "9d630ac2-c778-406b-d800-a7c3c99c95df"
      },
      "execution_count": null,
      "outputs": [
        {
          "output_type": "stream",
          "name": "stdout",
          "text": [
            "['6.0', '8', 'Winter', 'apple']\n",
            "['apple', 'Winter', '8', '6.0']\n"
          ]
        }
      ]
    },
    {
      "cell_type": "code",
      "source": [
        "list5 = [\"apple\", \"Banana\", \"Orange\", \"Appricot\", \"2\"]\n",
        "list5.sort()\n",
        "print(list5)\n",
        "list5.sort(key = str.upper) # Temporary convert to upper case\n",
        "print(list5)\n",
        "list5.sort(key = str.lower) # Temporary convert to lower case\n",
        "print(list5)\n",
        "list5.reverse()\n",
        "print(list5)"
      ],
      "metadata": {
        "colab": {
          "base_uri": "https://localhost:8080/"
        },
        "id": "dj3QPtJ137AO",
        "outputId": "5d8b4cc2-f028-4724-d8c1-ae3d5a96ee79"
      },
      "execution_count": null,
      "outputs": [
        {
          "output_type": "stream",
          "name": "stdout",
          "text": [
            "['2', 'Appricot', 'Banana', 'Orange', 'apple']\n",
            "['2', 'apple', 'Appricot', 'Banana', 'Orange']\n",
            "['2', 'apple', 'Appricot', 'Banana', 'Orange']\n",
            "['Orange', 'Banana', 'Appricot', 'apple', '2']\n"
          ]
        }
      ]
    },
    {
      "cell_type": "code",
      "source": [
        "list2 = [\"summer\", \"winter\", \"autumn\", \"Spring\", \"7\", \"9\"]\n",
        "print(list2)\n",
        "list2.sort(key = str.lower)\n",
        "print(list2)"
      ],
      "metadata": {
        "colab": {
          "base_uri": "https://localhost:8080/"
        },
        "id": "kDC0BwLv40Ar",
        "outputId": "4fc40134-cb71-46a2-fb10-da49cde2b012"
      },
      "execution_count": null,
      "outputs": [
        {
          "output_type": "stream",
          "name": "stdout",
          "text": [
            "['summer', 'winter', 'autumn', 'Spring', '7', '9']\n",
            "['7', '9', 'autumn', 'Spring', 'summer', 'winter']\n"
          ]
        }
      ]
    },
    {
      "cell_type": "markdown",
      "source": [
        "Copy list"
      ],
      "metadata": {
        "id": "spsJJxDQ8H2E"
      }
    },
    {
      "cell_type": "code",
      "source": [
        "list5 = [\"apple\", \"Banana\", \"Orange\", \"Apricot\"]\n",
        "list6 = list5\n",
        "print(list6)\n",
        "print(id(list5))\n",
        "print(id(list6))\n",
        "list5.append(\"Hello\")\n",
        "print(id(list5))\n",
        "print(list6)\n",
        "copy1 = list5.copy()\n",
        "print(copy1)\n",
        "print(id(list5))\n",
        "print(id(copy1))"
      ],
      "metadata": {
        "colab": {
          "base_uri": "https://localhost:8080/"
        },
        "id": "8SX3kknK8Wuy",
        "outputId": "1a27b85f-07e6-4d0f-c616-9c4e503851b8"
      },
      "execution_count": null,
      "outputs": [
        {
          "output_type": "stream",
          "name": "stdout",
          "text": [
            "['apple', 'Banana', 'Orange', 'Apricot']\n",
            "135815625662976\n",
            "135815625662976\n",
            "135815625662976\n",
            "['apple', 'Banana', 'Orange', 'Apricot', 'Hello']\n",
            "['apple', 'Banana', 'Orange', 'Apricot', 'Hello']\n",
            "135815625662976\n",
            "135815625514368\n"
          ]
        }
      ]
    },
    {
      "cell_type": "markdown",
      "source": [
        "Join List"
      ],
      "metadata": {
        "id": "1-LR94NX-NVB"
      }
    },
    {
      "cell_type": "code",
      "source": [
        "#Concatenating through + operator\n",
        "list5 = [\"apple\", \"Banana\", \"Ornage\", \"Apricote\"]\n",
        "list4 = [\"apple\", \"5\", \"Winter\", \"4.0\"]\n",
        "print(list4 + list5)"
      ],
      "metadata": {
        "id": "L5bGTZn--MMl",
        "colab": {
          "base_uri": "https://localhost:8080/"
        },
        "outputId": "f4850f85-a6fe-41ba-8a47-4e999b0ec00d"
      },
      "execution_count": null,
      "outputs": [
        {
          "output_type": "stream",
          "name": "stdout",
          "text": [
            "['apple', '5', 'Winter', '4.0', 'apple', 'Banana', 'Ornage', 'Apricote']\n"
          ]
        }
      ]
    },
    {
      "cell_type": "code",
      "source": [
        "#using extend() method\n",
        "list4.extend(list5)\n",
        "print(list4)"
      ],
      "metadata": {
        "colab": {
          "base_uri": "https://localhost:8080/"
        },
        "id": "n1zwio39Go9Q",
        "outputId": "3535ca25-2ac4-4814-dd8f-2e81b99bd9cc"
      },
      "execution_count": null,
      "outputs": [
        {
          "output_type": "stream",
          "name": "stdout",
          "text": [
            "['apple', '5', 'Winter', '4.0', 'apple', 'Banana', 'Ornage', 'Apricote']\n"
          ]
        }
      ]
    },
    {
      "cell_type": "code",
      "source": [
        "#appending each item using for loop\n",
        "for i in list4:\n",
        "  list5.append(i)\n",
        "print(list5)"
      ],
      "metadata": {
        "colab": {
          "base_uri": "https://localhost:8080/"
        },
        "id": "12hP4ZVwG845",
        "outputId": "11d8a228-1d41-4a49-c7d9-25c1b14003aa"
      },
      "execution_count": null,
      "outputs": [
        {
          "output_type": "stream",
          "name": "stdout",
          "text": [
            "['apple', 'Banana', 'Ornage', 'Apricote', 'apple', '5', 'Winter', '4.0', 'apple', 'Banana', 'Ornage', 'Apricote']\n"
          ]
        }
      ]
    },
    {
      "cell_type": "code",
      "source": [
        "#appending each item using for loop\n",
        "list3 = [\"a\", \"b\", \"c\"]\n",
        "for i in list3:\n",
        "  list5.append(i)\n",
        "print(list5)\n",
        "list5.clear()\n",
        "print(list5)"
      ],
      "metadata": {
        "colab": {
          "base_uri": "https://localhost:8080/"
        },
        "id": "ctQEKzJgIgdP",
        "outputId": "2c54b6ae-9677-45e3-d89a-8af3d08fbe3e"
      },
      "execution_count": null,
      "outputs": [
        {
          "output_type": "stream",
          "name": "stdout",
          "text": [
            "['apple', 'Banana', 'Ornage', 'Apricote', 'apple', '5', 'Winter', '4.0', 'apple', 'Banana', 'Ornage', 'Apricote', 'apple', '5', 'Winter', '4.0', 'apple', 'Banana', 'Ornage', 'Apricote', 'a', 'b', 'c', 'apple', '5', 'Winter', '4.0', 'apple', 'Banana', 'Ornage', 'Apricote', 'a', 'b', 'c', 'a', 'b', 'c', 'a', 'b', 'c', 'a', 'b', 'c']\n",
            "[]\n"
          ]
        }
      ]
    },
    {
      "cell_type": "code",
      "source": [
        "for i in list3:\n",
        "  list5.append(i)\n",
        "for i in list4:\n",
        "  list5.append(i)\n",
        "print(list5)"
      ],
      "metadata": {
        "colab": {
          "base_uri": "https://localhost:8080/"
        },
        "id": "aJ_uBRWQJl5w",
        "outputId": "0639b266-607c-4b2b-cf57-f868114158e0"
      },
      "execution_count": null,
      "outputs": [
        {
          "output_type": "stream",
          "name": "stdout",
          "text": [
            "['a', 'b', 'c', 'apple', '5', 'Winter', '4.0', 'apple', 'Banana', 'Ornage', 'Apricote']\n"
          ]
        }
      ]
    },
    {
      "cell_type": "code",
      "source": [
        "list5.sort()\n",
        "print(list5)"
      ],
      "metadata": {
        "colab": {
          "base_uri": "https://localhost:8080/"
        },
        "id": "FyCBsRwFKGZW",
        "outputId": "b5ccd25f-48df-4ccf-d8f3-e60db66573a7"
      },
      "execution_count": null,
      "outputs": [
        {
          "output_type": "stream",
          "name": "stdout",
          "text": [
            "['4.0', '5', 'Apricote', 'Banana', 'Ornage', 'Winter', 'a', 'apple', 'apple', 'b', 'c']\n"
          ]
        }
      ]
    },
    {
      "cell_type": "code",
      "source": [
        "string1 = \"Python Programing\"\n"
      ],
      "metadata": {
        "id": "NnQeGC8uKX3G"
      },
      "execution_count": null,
      "outputs": []
    },
    {
      "cell_type": "code",
      "source": [
        "#Nested List\n",
        "student = [\"Name\", \"Ali\", \"Marks\", [54, 89, 76, 34], [\"Pass\", \"Fail\"]]\n",
        "print(student [4][0][0]) # to acess P in pass. first [4] is index of second list, 0 is Pass and 0 is for P\n",
        "print(student[3][0]) # to acess marks of first student, [3] is index of marks list and 0 index in that list is marks ie 54"
      ],
      "metadata": {
        "colab": {
          "base_uri": "https://localhost:8080/"
        },
        "id": "idZomim2KkZR",
        "outputId": "557e43e6-aeed-4779-dd98-db40dc5920e7"
      },
      "execution_count": null,
      "outputs": [
        {
          "output_type": "stream",
          "name": "stdout",
          "text": [
            "P\n",
            "54\n"
          ]
        }
      ]
    },
    {
      "cell_type": "markdown",
      "source": [
        "Tuple are used to store multiple items in a single variable.\n",
        "A tuple is a collection which is ordered and unchangeable\n",
        "Tuples are written with round brackets.\n",
        "Tuples are immutable ie we cannot change it."
      ],
      "metadata": {
        "id": "AzJprdklMO2d"
      }
    },
    {
      "cell_type": "code",
      "source": [
        "T1 = (\"Pakistan\", \"Nepal\", 5, 8.9, \"Sudan\")\n",
        "print(T1)\n",
        "print(type(T1))\n",
        "T2 = (\"India\",)\n",
        "print(type(T2))\n",
        "print(T2)"
      ],
      "metadata": {
        "colab": {
          "base_uri": "https://localhost:8080/"
        },
        "id": "cFsxj0BKMHc2",
        "outputId": "2f7e9f7f-186f-4bca-9e5b-728b997ac4d7"
      },
      "execution_count": null,
      "outputs": [
        {
          "output_type": "stream",
          "name": "stdout",
          "text": [
            "('Pakistan', 'Nepal', 5, 8.9, 'Sudan')\n",
            "<class 'tuple'>\n",
            "<class 'tuple'>\n",
            "('India',)\n"
          ]
        }
      ]
    },
    {
      "cell_type": "markdown",
      "source": [
        "Accessing Tuple Elements"
      ],
      "metadata": {
        "id": "VgEE6WnRN0TR"
      }
    },
    {
      "cell_type": "code",
      "source": [
        "T1 = (\"Pakistan\", \"Nepal\", 5, 8.9, \"Sudan\", \"Korea\", \"09\") #indexing (\"Pakistan\", \"Nepal\", 5(-5), 8.9(-4), \"Sudan\"(-3), \"Korea\"(-2), \"09\" (-1))\n",
        "print(T1[-2]) # print index -2 value\n",
        "print(T1[-2:-5:-1]) # slicing : first start index, second is end index (ie one before ie -4), iterative steps ie one step ie indices -2 -3 -4"
      ],
      "metadata": {
        "colab": {
          "base_uri": "https://localhost:8080/"
        },
        "id": "1f4qUlbNN4BO",
        "outputId": "17971f3b-6af4-422f-ce45-c6f60b077c0d"
      },
      "execution_count": null,
      "outputs": [
        {
          "output_type": "stream",
          "name": "stdout",
          "text": [
            "Korea\n",
            "('Korea', 'Sudan', 8.9)\n"
          ]
        }
      ]
    },
    {
      "cell_type": "markdown",
      "source": [
        "Membership Operator"
      ],
      "metadata": {
        "id": "ufhxEN1wPzD6"
      }
    },
    {
      "cell_type": "code",
      "source": [],
      "metadata": {
        "id": "HLDbssG9PyXI"
      },
      "execution_count": null,
      "outputs": []
    },
    {
      "cell_type": "markdown",
      "source": [
        "Update Tuples\n",
        "You can use some hacks to change tuple (immutable)"
      ],
      "metadata": {
        "id": "cdeFdN72P6Na"
      }
    },
    {
      "cell_type": "code",
      "source": [
        "# Method 1 to add items in tuple\n",
        "T1 = (\"Pakistan\", \"Nepal\", 5, 8.9, \"Sudan\", \"Korea\", \"09\")\n",
        "x = list(T1) # convert to list\n",
        "x.append(\"Indonessia\") # append()\n",
        "T1 = tuple(x) # convert to tuple\n",
        "print(T1)"
      ],
      "metadata": {
        "colab": {
          "base_uri": "https://localhost:8080/"
        },
        "id": "U4m3SzwbQLa6",
        "outputId": "1a1728a1-e49e-4fec-9859-fb2d49a2d75c"
      },
      "execution_count": null,
      "outputs": [
        {
          "output_type": "stream",
          "name": "stdout",
          "text": [
            "('Pakistan', 'Nepal', 5, 8.9, 'Sudan', 'Korea', '09', 'Indonessia')\n"
          ]
        }
      ]
    },
    {
      "cell_type": "code",
      "source": [
        "# Method 2 to add items in a tuple\n",
        "T1 = (\"Pakistan\", \"Nepal\", 5, 8.9, \"Sudan\", \"Korea\", \"09\")\n",
        "T3 = (\"Python\",)\n",
        "T1 += T2\n",
        "print(T1)"
      ],
      "metadata": {
        "colab": {
          "base_uri": "https://localhost:8080/"
        },
        "id": "WBGOqQMgQqRC",
        "outputId": "b50b7469-a90e-4245-a82a-d54082672968"
      },
      "execution_count": null,
      "outputs": [
        {
          "output_type": "stream",
          "name": "stdout",
          "text": [
            "('Pakistan', 'Nepal', 5, 8.9, 'Sudan', 'Korea', '09', 'India')\n"
          ]
        }
      ]
    },
    {
      "cell_type": "code",
      "source": [
        "# to remove\n",
        "T1 = (\"Pakistan\", \"Nepal\", 5, 8.9, \"Sudan\", \"Korea\", \"09\")\n",
        "x = list(T1)\n",
        "x.remove(\"Sudan\")\n",
        "T1 = tuple(x)\n",
        "print(T1)"
      ],
      "metadata": {
        "colab": {
          "base_uri": "https://localhost:8080/"
        },
        "id": "dbIMfBrOR3Ka",
        "outputId": "0e5ca6e4-92b2-41e7-b2fc-4e5df43ec1bb"
      },
      "execution_count": null,
      "outputs": [
        {
          "output_type": "stream",
          "name": "stdout",
          "text": [
            "('Pakistan', 'Nepal', 5, 8.9, 'Korea', '09')\n"
          ]
        }
      ]
    }
  ]
}