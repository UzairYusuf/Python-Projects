{
  "nbformat": 4,
  "nbformat_minor": 0,
  "metadata": {
    "colab": {
      "provenance": [],
      "authorship_tag": "ABX9TyMo1K4voC2i5zIBcCiMz95Z",
      "include_colab_link": true
    },
    "kernelspec": {
      "name": "python3",
      "display_name": "Python 3"
    },
    "language_info": {
      "name": "python"
    }
  },
  "cells": [
    {
      "cell_type": "markdown",
      "metadata": {
        "id": "view-in-github",
        "colab_type": "text"
      },
      "source": [
        "<a href=\"https://colab.research.google.com/github/UzairYusuf/Python-Projects/blob/main/19_Sept_24.ipynb\" target=\"_parent\"><img src=\"https://colab.research.google.com/assets/colab-badge.svg\" alt=\"Open In Colab\"/></a>"
      ]
    },
    {
      "cell_type": "markdown",
      "source": [
        "Tuple"
      ],
      "metadata": {
        "id": "PUK7y5NDOrSS"
      }
    },
    {
      "cell_type": "markdown",
      "source": [
        "Membership Operator\n",
        "if a item is present"
      ],
      "metadata": {
        "id": "vRtwO323QbR3"
      }
    },
    {
      "cell_type": "code",
      "execution_count": null,
      "metadata": {
        "colab": {
          "base_uri": "https://localhost:8080/"
        },
        "id": "GHJ66mn1Obp7",
        "outputId": "476ba418-8620-4e90-ded2-7b6a9d6cbcd4"
      },
      "outputs": [
        {
          "output_type": "stream",
          "name": "stdout",
          "text": [
            "True False\n"
          ]
        }
      ],
      "source": [
        "T1 = (\"Pakistan\", \"Nepal\", 5, 8.9, \"Sudan\", 55, \"Korea\", \"09\")\n",
        "print(\"Nepal\" in T1, \"Pak\" in T1)"
      ]
    },
    {
      "cell_type": "markdown",
      "source": [
        "Update Tuples"
      ],
      "metadata": {
        "id": "rL_VX682Q3sP"
      }
    },
    {
      "cell_type": "code",
      "source": [
        "# Method 1 to add items in a tuple\n",
        "T1 = (\"Pakistan\", \"Nepal\", 5, 8.9, \"Sudan\", 55, \"Korea\", \"09\")\n",
        "x = list(T1)\n",
        "x.append(\"china\")\n",
        "T1 = tuple(x)\n",
        "print(T1)"
      ],
      "metadata": {
        "colab": {
          "base_uri": "https://localhost:8080/"
        },
        "id": "x6SBwDgJQySt",
        "outputId": "fed96f61-ab63-4685-bf14-2a51ff97e5e8"
      },
      "execution_count": null,
      "outputs": [
        {
          "output_type": "stream",
          "name": "stdout",
          "text": [
            "('Pakistan', 'Nepal', 5, 8.9, 'Sudan', 55, 'Korea', '09', 'china')\n"
          ]
        }
      ]
    },
    {
      "cell_type": "code",
      "source": [
        "# Method 2 to add items in a tuple\n",
        "T1 = (\"Pakistan\", \"Nepal\", 5, 8.9, \"Sudan\", 55, \"Korea\", \"09\")\n",
        "T3 = (\"china\",)\n",
        "T1 += T3 # T1 = T1+T3\n",
        "print(T1)"
      ],
      "metadata": {
        "colab": {
          "base_uri": "https://localhost:8080/"
        },
        "id": "yCXNFo0QRpZ5",
        "outputId": "afff7018-0eaf-4b8d-b3e7-2df50084bc5e"
      },
      "execution_count": null,
      "outputs": [
        {
          "output_type": "stream",
          "name": "stdout",
          "text": [
            "('Pakistan', 'Nepal', 5, 8.9, 'Sudan', 55, 'Korea', '09', 'china')\n"
          ]
        }
      ]
    },
    {
      "cell_type": "code",
      "source": [
        "# remove\n",
        "T1  = (\"Pakistan\", \"Nepal\", 5, 8.9, \"Sudan\", 55, \"Korea\", \"09\")\n",
        "x = list(T1)\n",
        "x.remove(\"Sudan\")\n",
        "T1 = tuple(x)\n",
        "print(T1)"
      ],
      "metadata": {
        "colab": {
          "base_uri": "https://localhost:8080/"
        },
        "id": "9ix2XzwOSast",
        "outputId": "216d821d-79d8-45b3-cb35-ae8c4badab1f"
      },
      "execution_count": null,
      "outputs": [
        {
          "output_type": "stream",
          "name": "stdout",
          "text": [
            "('Pakistan', 'Nepal', 5, 8.9, 55, 'Korea', '09')\n"
          ]
        }
      ]
    },
    {
      "cell_type": "code",
      "source": [
        "# Delete a tuple\n",
        "T1  = (\"Pakistan\", \"Nepal\", 5, 8.9, \"Sudan\", 55, \"Korea\", \"09\")\n",
        "del T1\n",
        "T1  = (\"Pakistan\", \"Nepal\", 5, 8.9, \"Sudan\", 55, \"Korea\", \"09\")\n",
        "print(T1)"
      ],
      "metadata": {
        "colab": {
          "base_uri": "https://localhost:8080/"
        },
        "id": "zeJaYyM8SyaW",
        "outputId": "bbf12200-fe18-4f2d-bdf1-0d45c3a6c763"
      },
      "execution_count": null,
      "outputs": [
        {
          "output_type": "stream",
          "name": "stdout",
          "text": [
            "('Pakistan', 'Nepal', 5, 8.9, 'Sudan', 55, 'Korea', '09')\n"
          ]
        }
      ]
    },
    {
      "cell_type": "markdown",
      "source": [
        "Unpacking a Tuple"
      ],
      "metadata": {
        "id": "E01pblcKSt9q"
      }
    },
    {
      "cell_type": "code",
      "source": [
        "T1 = (\"Pakistan\", \"nAPAL\", 5, 8.9)\n",
        "var1, var2, var3, var4 = T1\n",
        "print(var1)\n",
        "print(var2)\n",
        "type(var3)\n",
        "type(var4)"
      ],
      "metadata": {
        "colab": {
          "base_uri": "https://localhost:8080/"
        },
        "id": "99PXoGt3SwxW",
        "outputId": "bc3e00d0-475c-47f6-df82-6eedbeec87b8"
      },
      "execution_count": null,
      "outputs": [
        {
          "output_type": "stream",
          "name": "stdout",
          "text": [
            "Pakistan\n",
            "nAPAL\n"
          ]
        },
        {
          "output_type": "execute_result",
          "data": {
            "text/plain": [
              "float"
            ]
          },
          "metadata": {},
          "execution_count": 12
        }
      ]
    },
    {
      "cell_type": "code",
      "source": [
        "T1 = (\"Pakistan\", \"nAPAL\", 5, 8.9, \"sudan\", 55, \"korea\", \"09\")\n",
        "var1, var2, var3, var4, *var5 = T1 # *var5 = [list of all remaining variables]\n",
        "print(var3)\n",
        "print(var4)\n",
        "print(var5)"
      ],
      "metadata": {
        "colab": {
          "base_uri": "https://localhost:8080/"
        },
        "id": "IMTOuP2KU-3y",
        "outputId": "1dc9df43-052c-460b-a09a-27aa8af0d790"
      },
      "execution_count": null,
      "outputs": [
        {
          "output_type": "stream",
          "name": "stdout",
          "text": [
            "5\n",
            "8.9\n",
            "['sudan', 55, 'korea', '09']\n"
          ]
        }
      ]
    },
    {
      "cell_type": "markdown",
      "source": [
        "Join Tuples"
      ],
      "metadata": {
        "id": "y0-SI9uGWID_"
      }
    },
    {
      "cell_type": "code",
      "source": [
        "# use +\n",
        "join1 = (3, 5, 7)\n",
        "join2 = (\"P\", \"A\", \"K\")\n",
        "join3 =(2, 4, 6)\n",
        "join1 += join2 + join3\n",
        "print(join1+join2)"
      ],
      "metadata": {
        "colab": {
          "base_uri": "https://localhost:8080/"
        },
        "id": "hfPfBWiLWFMn",
        "outputId": "00776db9-8b69-41c9-e7ba-e3daac326a3d"
      },
      "execution_count": null,
      "outputs": [
        {
          "output_type": "stream",
          "name": "stdout",
          "text": [
            "(3, 5, 7, 'P', 'A', 'K', 2, 4, 6, 'P', 'A', 'K')\n"
          ]
        }
      ]
    },
    {
      "cell_type": "markdown",
      "source": [
        "Multiply Tuples"
      ],
      "metadata": {
        "id": "TmCdpgygXsOL"
      }
    },
    {
      "cell_type": "code",
      "source": [
        "join2 = (\"Pakistan\", 1)\n",
        "print(join2*2)\n",
        "join1 = (3, 5, 7)\n",
        "print(join1*5)"
      ],
      "metadata": {
        "colab": {
          "base_uri": "https://localhost:8080/"
        },
        "id": "jFrBrMuIXEm6",
        "outputId": "fb2dc509-fefe-4359-9467-e2c7a8c64d25"
      },
      "execution_count": null,
      "outputs": [
        {
          "output_type": "stream",
          "name": "stdout",
          "text": [
            "('Pakistan', 1, 'Pakistan', 1)\n",
            "(3, 5, 7, 3, 5, 7, 3, 5, 7, 3, 5, 7, 3, 5, 7)\n"
          ]
        }
      ]
    },
    {
      "cell_type": "markdown",
      "source": [
        "Tuple Method"
      ],
      "metadata": {
        "id": "DAdutrPPYKi_"
      }
    },
    {
      "cell_type": "code",
      "source": [
        "# count method\n",
        "T1 = (\"Pakistan\", \"Nepal\", 5, 8.9, \"Sudan\", 55, \"Korea\", \"09\", \"Pakistan\")\n",
        "print(T1.count(\"Pakistan\"))"
      ],
      "metadata": {
        "colab": {
          "base_uri": "https://localhost:8080/"
        },
        "id": "gYmKrRzUYOsr",
        "outputId": "748a7d76-f548-4bed-e720-c162bcb349cf"
      },
      "execution_count": null,
      "outputs": [
        {
          "output_type": "stream",
          "name": "stdout",
          "text": [
            "2\n"
          ]
        }
      ]
    },
    {
      "cell_type": "code",
      "source": [
        "# index() method\n",
        "print(T1.index(5))"
      ],
      "metadata": {
        "colab": {
          "base_uri": "https://localhost:8080/"
        },
        "id": "y9ACUcS7Yeed",
        "outputId": "aa0c8735-2584-49e5-fb94-4124dd3ab82e"
      },
      "execution_count": null,
      "outputs": [
        {
          "output_type": "stream",
          "name": "stdout",
          "text": [
            "2\n"
          ]
        }
      ]
    },
    {
      "cell_type": "code",
      "source": [
        "x = [2, 67, 3, 40, 500]\n",
        "x.sort()\n",
        "print(x)"
      ],
      "metadata": {
        "colab": {
          "base_uri": "https://localhost:8080/"
        },
        "id": "wp9IfFNXYtnz",
        "outputId": "d5ab8d50-0027-403c-b6ed-13575f56f255"
      },
      "execution_count": null,
      "outputs": [
        {
          "output_type": "stream",
          "name": "stdout",
          "text": [
            "[2, 3, 40, 67, 500]\n"
          ]
        }
      ]
    },
    {
      "cell_type": "code",
      "source": [
        "x = [3,\"Apple\", [55, 77], [\"cheery\", \"bannana\"]]\n",
        "x[3] = [\"e\"]\n",
        "print(x)"
      ],
      "metadata": {
        "colab": {
          "base_uri": "https://localhost:8080/"
        },
        "id": "r_oivd3XZM0w",
        "outputId": "36964426-7ef5-494e-cba3-c8f4ed15d724"
      },
      "execution_count": null,
      "outputs": [
        {
          "output_type": "stream",
          "name": "stdout",
          "text": [
            "[3, 'Apple', [55, 77], ['e']]\n"
          ]
        }
      ]
    }
  ]
}